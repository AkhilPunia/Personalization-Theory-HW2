{
 "cells": [
  {
   "cell_type": "code",
   "execution_count": 1,
   "metadata": {},
   "outputs": [],
   "source": [
    "import pandas as pd;\n",
    "import numpy as  np;\n",
    "from scipy.optimize import minimize;\n",
    "import random;"
   ]
  },
  {
   "cell_type": "code",
   "execution_count": 2,
   "metadata": {},
   "outputs": [],
   "source": [
    "ratings_small = np.genfromtxt('ml-latest-small//ratings.csv',delimiter=',',skip_header =1)[:,0:3]"
   ]
  },
  {
   "cell_type": "code",
   "execution_count": 3,
   "metadata": {},
   "outputs": [],
   "source": [
    "def get_rhat(u,v):\n",
    "    return np.matmul(u,np.transpose(v))"
   ]
  },
  {
   "cell_type": "code",
   "execution_count": 4,
   "metadata": {},
   "outputs": [],
   "source": [
    "def cal_error(r,rhat):\n",
    "    return 0.5 * np.sum(np.square(r - rhat))"
   ]
  },
  {
   "cell_type": "code",
   "execution_count": 5,
   "metadata": {},
   "outputs": [],
   "source": [
    "def matrix_factorization(ratings,alpha,steps,concept=3):\n",
    "    r=ratings\n",
    "    row = (r.shape[0])\n",
    "    col = (r.shape[1])\n",
    "    \n",
    "    np.random.seed(1234)\n",
    "    u = np.random.rand(row,concept)\n",
    "    v = np.random.rand(col,concept)\n",
    "    \n",
    "    e = r - get_rhat(u,v)\n",
    "    e = np.array(pd.DataFrame(e).fillna(0))\n",
    "    #e1 = np.zeros((row,col))\n",
    "    #\n",
    "    #for i in range(row):\n",
    "    #    for j in range(col):\n",
    "    #        if r[i][j] > 0:\n",
    "    #            e1[i,j] = r[i][j] - get_rhat(u,v)[i,j]\n",
    "    #           \n",
    "               \n",
    "    #e = r - get_rhat(u,v)\n",
    "    #print(e)\n",
    "    #print(e1)\n",
    "    for s in range(steps):\n",
    "        u_c = u + alpha * np.matmul(e,v)\n",
    "        v_c = v + alpha * np.matmul(np.transpose(e),u)\n",
    "       \n",
    "        u = np.copy(u_c)\n",
    "        v = np.copy(v_c)\n",
    "        e = r - get_rhat(u,v)\n",
    "        e = np.array(pd.DataFrame(e).fillna(0))\n",
    "    return get_rhat(u,v)"
   ]
  },
  {
   "cell_type": "code",
   "execution_count": 6,
   "metadata": {},
   "outputs": [],
   "source": [
    "R = [[5,3,np.nan,1],\n",
    "  [4,np.nan,np.nan,1],\n",
    "  [1,1,np.nan,5],\n",
    "  [1,np.nan,np.nan,4],\n",
    "  [np.nan,1,5,4]]\n",
    "R = np.array(R)"
   ]
  },
  {
   "cell_type": "code",
   "execution_count": 7,
   "metadata": {},
   "outputs": [
    {
     "data": {
      "text/plain": [
       "array([[5.00479217, 2.98757696, 3.29128869, 0.99876123],\n",
       "       [3.99561129, 2.12559217, 3.00200174, 0.99823669],\n",
       "       [1.01425366, 0.96503099, 4.64540656, 4.997607  ],\n",
       "       [0.99271356, 0.4237421 , 4.14724211, 3.99633337],\n",
       "       [2.37957614, 1.04454135, 4.98434807, 4.01184795]])"
      ]
     },
     "execution_count": 7,
     "metadata": {},
     "output_type": "execute_result"
    }
   ],
   "source": [
    "matrix_factorization(R,0.002,1000)"
   ]
  },
  {
   "cell_type": "code",
   "execution_count": 8,
   "metadata": {},
   "outputs": [],
   "source": [
    "ratings = pd.read_csv('ml-latest-small/ratings.csv')"
   ]
  },
  {
   "cell_type": "code",
   "execution_count": 72,
   "metadata": {},
   "outputs": [],
   "source": [
    "r2 = ratings.pivot(index='userId', columns='movieId', values='rating');\n",
    "r3 = np.asarray(r2)"
   ]
  },
  {
   "cell_type": "code",
   "execution_count": 10,
   "metadata": {},
   "outputs": [
    {
     "data": {
      "text/plain": [
       "array([[4.77956271, 4.23373704, 3.86487266, ..., 3.73295744, 3.85884154,\n",
       "        4.75444991],\n",
       "       [3.86327595, 3.45850166, 3.22185477, ..., 2.96080616, 3.10413529,\n",
       "        3.61222324],\n",
       "       [2.53267637, 2.31260267, 2.01775225, ..., 1.52244183, 1.13257878,\n",
       "        1.45784672],\n",
       "       ...,\n",
       "       [3.7007829 , 3.29346918, 2.95997503, ..., 2.74781452, 2.68008488,\n",
       "        3.37167088],\n",
       "       [3.48792375, 3.13277312, 2.95236763, ..., 2.68270533, 2.86314554,\n",
       "        3.2417244 ],\n",
       "       [4.15047787, 3.7149173 , 3.45576772, ..., 3.17597563, 3.31991141,\n",
       "        3.87439329]])"
      ]
     },
     "execution_count": 10,
     "metadata": {},
     "output_type": "execute_result"
    }
   ],
   "source": [
    "matrix_factorization(r3,0.0002,1000)"
   ]
  },
  {
   "cell_type": "code",
   "execution_count": 24,
   "metadata": {},
   "outputs": [],
   "source": [
    "indice = list()\n",
    "\n",
    "for i in range(r3.shape[0]):\n",
    "    for j in range(r3.shape[1]):\n",
    "        if np.isnan(r3[i][j]) == False:\n",
    "            indice.append([i,j])"
   ]
  },
  {
   "cell_type": "code",
   "execution_count": 26,
   "metadata": {},
   "outputs": [
    {
     "data": {
      "text/plain": [
       "100836"
      ]
     },
     "execution_count": 26,
     "metadata": {},
     "output_type": "execute_result"
    }
   ],
   "source": [
    "len(indice)"
   ]
  },
  {
   "cell_type": "code",
   "execution_count": 28,
   "metadata": {},
   "outputs": [
    {
     "data": {
      "text/plain": [
       "5931640"
      ]
     },
     "execution_count": 28,
     "metadata": {},
     "output_type": "execute_result"
    }
   ],
   "source": [
    "r3.shape[0]*r3.shape[1]"
   ]
  },
  {
   "cell_type": "code",
   "execution_count": 30,
   "metadata": {},
   "outputs": [
    {
     "data": {
      "text/plain": [
       "1.6999683055613624"
      ]
     },
     "execution_count": 30,
     "metadata": {},
     "output_type": "execute_result"
    }
   ],
   "source": [
    "(100836/5931640)*100"
   ]
  },
  {
   "cell_type": "code",
   "execution_count": null,
   "metadata": {},
   "outputs": [],
   "source": [
    "ratio = 0.1"
   ]
  },
  {
   "cell_type": "code",
   "execution_count": 41,
   "metadata": {},
   "outputs": [],
   "source": [
    "random.seed(2018)\n",
    "test = random.sample(indice, int(ratio*len(indice)))"
   ]
  },
  {
   "cell_type": "code",
   "execution_count": 46,
   "metadata": {},
   "outputs": [],
   "source": [
    "#train = [x for x in indice if x not in test] "
   ]
  },
  {
   "cell_type": "code",
   "execution_count": 43,
   "metadata": {},
   "outputs": [
    {
     "data": {
      "text/plain": [
       "90753"
      ]
     },
     "execution_count": 43,
     "metadata": {},
     "output_type": "execute_result"
    }
   ],
   "source": [
    "len(train)"
   ]
  },
  {
   "cell_type": "code",
   "execution_count": 44,
   "metadata": {},
   "outputs": [
    {
     "data": {
      "text/plain": [
       "10083"
      ]
     },
     "execution_count": 44,
     "metadata": {},
     "output_type": "execute_result"
    }
   ],
   "source": [
    "len(test)"
   ]
  },
  {
   "cell_type": "code",
   "execution_count": 45,
   "metadata": {},
   "outputs": [
    {
     "data": {
      "text/plain": [
       "100836"
      ]
     },
     "execution_count": 45,
     "metadata": {},
     "output_type": "execute_result"
    }
   ],
   "source": [
    "len(train)+len(test)"
   ]
  },
  {
   "cell_type": "code",
   "execution_count": 38,
   "metadata": {},
   "outputs": [
    {
     "data": {
      "text/plain": [
       "100836"
      ]
     },
     "execution_count": 38,
     "metadata": {},
     "output_type": "execute_result"
    }
   ],
   "source": [
    "len(indice)"
   ]
  },
  {
   "cell_type": "code",
   "execution_count": 39,
   "metadata": {},
   "outputs": [
    {
     "data": {
      "text/plain": [
       "[[0, 0],\n",
       " [0, 2],\n",
       " [0, 5],\n",
       " [0, 43],\n",
       " [0, 46],\n",
       " [0, 62],\n",
       " [0, 89],\n",
       " [0, 97],\n",
       " [0, 124],\n",
       " [0, 130]]"
      ]
     },
     "execution_count": 39,
     "metadata": {},
     "output_type": "execute_result"
    }
   ],
   "source": [
    "indice[0:10]"
   ]
  },
  {
   "cell_type": "code",
   "execution_count": 85,
   "metadata": {},
   "outputs": [],
   "source": [
    "def mutate_ratings(ratings,test):\n",
    "    rt = ratings.copy()\n",
    "    for i in test:\n",
    "        rt[i[0]][i[1]] = np.nan\n",
    "    return (rt)"
   ]
  },
  {
   "cell_type": "code",
   "execution_count": 86,
   "metadata": {},
   "outputs": [],
   "source": [
    "new_r3 = mutate_ratings(r3, test)"
   ]
  },
  {
   "cell_type": "code",
   "execution_count": 92,
   "metadata": {},
   "outputs": [
    {
     "name": "stdout",
     "output_type": "stream",
     "text": [
      "-0.00485684908926487\n"
     ]
    }
   ],
   "source": [
    "import time\n",
    "\n",
    "start = time.time()\n",
    "\n",
    "pred_new_r3_2 = matrix_factorization(new_r3,0.0002,1000, concept = 2)\n",
    "pred_new_r3_3 = matrix_factorization(new_r3,0.0002,1000, concept = 3)\n",
    "pred_new_r3_4 = matrix_factorization(new_r3,0.0002,1000, concept = 4)\n",
    "pred_new_r3_5 = matrix_factorization(new_r3,0.0002,1000, concept = 5)\n",
    "\n",
    "end = time.time()\n",
    "print(end-start)"
   ]
  },
  {
   "cell_type": "code",
   "execution_count": 99,
   "metadata": {},
   "outputs": [],
   "source": [
    "def fetch_ratings(ratings, predicted, test):\n",
    "    y_true = list()\n",
    "    y_pred = list()\n",
    "    for i in test:\n",
    "        y_true.append(r3[i[0]][i[1]])\n",
    "        y_pred.append(predicted[i[0]][i[1]])\n",
    "    return(y_true,y_pred)"
   ]
  },
  {
   "cell_type": "code",
   "execution_count": 100,
   "metadata": {},
   "outputs": [],
   "source": [
    "y_true,y_pred_2 = fetch_ratings(r3, pred_new_r3_2, test)\n",
    "y_true,y_pred_3 = fetch_ratings(r3, pred_new_r3_3, test)\n",
    "y_true,y_pred_4 = fetch_ratings(r3, pred_new_r3_4, test)\n",
    "y_true,y_pred_5 = fetch_ratings(r3, pred_new_r3_5, test)"
   ]
  },
  {
   "cell_type": "code",
   "execution_count": 101,
   "metadata": {},
   "outputs": [
    {
     "data": {
      "text/plain": [
       "[3.206484027879532,\n",
       " 1.3971523443972549,\n",
       " 3.726042259529151,\n",
       " 4.404169339307783,\n",
       " 2.776061332390903,\n",
       " 3.3537139174352304,\n",
       " 3.3231249789847137,\n",
       " 3.775852238192824,\n",
       " 3.3484724613045733]"
      ]
     },
     "execution_count": 101,
     "metadata": {},
     "output_type": "execute_result"
    }
   ],
   "source": [
    "y_pred_2[1:10]"
   ]
  },
  {
   "cell_type": "code",
   "execution_count": 90,
   "metadata": {},
   "outputs": [],
   "source": [
    "from sklearn.metrics import mean_squared_error"
   ]
  },
  {
   "cell_type": "code",
   "execution_count": null,
   "metadata": {},
   "outputs": [],
   "source": []
  },
  {
   "cell_type": "code",
   "execution_count": 102,
   "metadata": {},
   "outputs": [],
   "source": [
    "mse_2 = mean_squared_error(y_true, y_pred_2)\n",
    "mse_3 = mean_squared_error(y_true, y_pred_3)\n",
    "mse_4 = mean_squared_error(y_true, y_pred_4)\n",
    "mse_5 = mean_squared_error(y_true, y_pred_5)"
   ]
  },
  {
   "cell_type": "code",
   "execution_count": 103,
   "metadata": {},
   "outputs": [
    {
     "name": "stdout",
     "output_type": "stream",
     "text": [
      "0.848772461879257 0.8397398922443507 0.8238504890637401 0.8343180262188046\n"
     ]
    }
   ],
   "source": [
    "print(mse_2, mse_3, mse_4, mse_5)"
   ]
  },
  {
   "cell_type": "code",
   "execution_count": 79,
   "metadata": {},
   "outputs": [
    {
     "data": {
      "text/plain": [
       "[4.0, 3.0, 4.0, 4.0, 5.0, 2.5, 5.0, 2.5, 3.0]"
      ]
     },
     "execution_count": 79,
     "metadata": {},
     "output_type": "execute_result"
    }
   ],
   "source": [
    "y_true[1:10]"
   ]
  },
  {
   "cell_type": "code",
   "execution_count": 80,
   "metadata": {},
   "outputs": [
    {
     "data": {
      "text/plain": [
       "[3.1858993109954072,\n",
       " 1.974794244302193,\n",
       " 3.7444569243284436,\n",
       " 4.386698417341947,\n",
       " 3.1248248987591034,\n",
       " 3.092258016869915,\n",
       " 3.3643979574013887,\n",
       " 3.8048116961426373,\n",
       " 3.3077430188381802]"
      ]
     },
     "execution_count": 80,
     "metadata": {},
     "output_type": "execute_result"
    }
   ],
   "source": [
    "y_pred[1:10]"
   ]
  },
  {
   "cell_type": "code",
   "execution_count": 68,
   "metadata": {},
   "outputs": [
    {
     "data": {
      "text/plain": [
       "array([[4.79716714, 4.1708642 , 4.01390197, ..., 3.68402278, 3.83286809,\n",
       "        4.71426636],\n",
       "       [3.89872983, 3.47294289, 3.26508031, ..., 2.93195664, 3.08545198,\n",
       "        3.63996295],\n",
       "       [2.46626382, 2.45709606, 1.4218214 , ..., 1.6219774 , 1.34280756,\n",
       "        1.67594919],\n",
       "       ...,\n",
       "       [3.63425273, 3.27746473, 2.67282671, ..., 2.68113983, 2.56738672,\n",
       "        3.28467297],\n",
       "       [3.51024972, 3.13206744, 3.01228431, ..., 2.64021905, 2.83343069,\n",
       "        3.26849018],\n",
       "       [4.20696803, 3.73513869, 3.54587439, ..., 3.17436275, 3.35206065,\n",
       "        3.95721243]])"
      ]
     },
     "execution_count": 68,
     "metadata": {},
     "output_type": "execute_result"
    }
   ],
   "source": [
    "#pred_new_r3"
   ]
  },
  {
   "cell_type": "code",
   "execution_count": null,
   "metadata": {},
   "outputs": [],
   "source": []
  }
 ],
 "metadata": {
  "kernelspec": {
   "display_name": "Python 3",
   "language": "python",
   "name": "python3"
  },
  "language_info": {
   "codemirror_mode": {
    "name": "ipython",
    "version": 3
   },
   "file_extension": ".py",
   "mimetype": "text/x-python",
   "name": "python",
   "nbconvert_exporter": "python",
   "pygments_lexer": "ipython3",
   "version": "3.6.7"
  }
 },
 "nbformat": 4,
 "nbformat_minor": 2
}

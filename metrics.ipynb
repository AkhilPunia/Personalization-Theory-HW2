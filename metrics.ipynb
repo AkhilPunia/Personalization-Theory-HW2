{
 "cells": [
  {
   "cell_type": "code",
   "execution_count": 1,
   "metadata": {},
   "outputs": [],
   "source": [
    "import pandas as pd;\n",
    "import numpy as  np;\n",
    "from scipy.optimize import minimize;\n",
    "import random;"
   ]
  },
  {
   "cell_type": "code",
   "execution_count": 3,
   "metadata": {},
   "outputs": [],
   "source": [
    "ratings_small = np.genfromtxt('ratings.csv',delimiter=',',skip_header =1)[:,0:3]"
   ]
  },
  {
   "cell_type": "code",
   "execution_count": 4,
   "metadata": {},
   "outputs": [],
   "source": [
    "def get_rhat(u,v):\n",
    "    return np.matmul(u,np.transpose(v))"
   ]
  },
  {
   "cell_type": "code",
   "execution_count": 5,
   "metadata": {},
   "outputs": [],
   "source": [
    "def cal_error(r,rhat):\n",
    "    return 0.5 * np.sum(np.square(r - rhat))"
   ]
  },
  {
   "cell_type": "code",
   "execution_count": 6,
   "metadata": {},
   "outputs": [],
   "source": [
    "def matrix_factorization(ratings,alpha,steps,concept=3):\n",
    "    r=ratings\n",
    "    row = (r.shape[0])\n",
    "    col = (r.shape[1])\n",
    "    \n",
    "    np.random.seed(1234)\n",
    "    u = np.random.rand(row,concept)\n",
    "    v = np.random.rand(col,concept)\n",
    "    \n",
    "    e = r - get_rhat(u,v)\n",
    "    e = np.array(pd.DataFrame(e).fillna(0))\n",
    "    #e1 = np.zeros((row,col))\n",
    "    #\n",
    "    #for i in range(row):\n",
    "    #    for j in range(col):\n",
    "    #        if r[i][j] > 0:\n",
    "    #            e1[i,j] = r[i][j] - get_rhat(u,v)[i,j]\n",
    "    #           \n",
    "               \n",
    "    #e = r - get_rhat(u,v)\n",
    "    #print(e)\n",
    "    #print(e1)\n",
    "    for s in range(steps):\n",
    "        u_c = u + alpha * np.matmul(e,v)\n",
    "        v_c = v + alpha * np.matmul(np.transpose(e),u)\n",
    "       \n",
    "        u = np.copy(u_c)\n",
    "        v = np.copy(v_c)\n",
    "        e = r - get_rhat(u,v)\n",
    "        e = np.array(pd.DataFrame(e).fillna(0))\n",
    "    return get_rhat(u,v)"
   ]
  },
  {
   "cell_type": "markdown",
   "metadata": {},
   "source": [
    "## Dummy Test Case"
   ]
  },
  {
   "cell_type": "code",
   "execution_count": 6,
   "metadata": {},
   "outputs": [],
   "source": [
    "R = [[5,3,np.nan,1],\n",
    "  [4,np.nan,np.nan,1],\n",
    "  [1,1,np.nan,5],\n",
    "  [1,np.nan,np.nan,4],\n",
    "  [np.nan,1,5,4]]\n",
    "R = np.array(R)"
   ]
  },
  {
   "cell_type": "code",
   "execution_count": 7,
   "metadata": {},
   "outputs": [
    {
     "data": {
      "text/plain": [
       "array([[5.00479217, 2.98757696, 3.29128869, 0.99876123],\n",
       "       [3.99561129, 2.12559217, 3.00200174, 0.99823669],\n",
       "       [1.01425366, 0.96503099, 4.64540656, 4.997607  ],\n",
       "       [0.99271356, 0.4237421 , 4.14724211, 3.99633337],\n",
       "       [2.37957614, 1.04454135, 4.98434807, 4.01184795]])"
      ]
     },
     "execution_count": 7,
     "metadata": {},
     "output_type": "execute_result"
    }
   ],
   "source": [
    "matrix_factorization(R,0.002,1000)"
   ]
  },
  {
   "cell_type": "markdown",
   "metadata": {},
   "source": [
    "## Small Dataset"
   ]
  },
  {
   "cell_type": "code",
   "execution_count": 8,
   "metadata": {},
   "outputs": [],
   "source": [
    "ratings = pd.read_csv('ratings.csv')"
   ]
  },
  {
   "cell_type": "code",
   "execution_count": 9,
   "metadata": {},
   "outputs": [],
   "source": [
    "r2 = ratings.pivot(index='userId', columns='movieId', values='rating');\n",
    "r3 = np.asarray(r2)"
   ]
  },
  {
   "cell_type": "code",
   "execution_count": 10,
   "metadata": {},
   "outputs": [
    {
     "name": "stdout",
     "output_type": "stream",
     "text": [
      "('Time Taken:', 116.64931297302246)\n"
     ]
    }
   ],
   "source": [
    "import time\n",
    "\n",
    "start = time.time()\n",
    "matrix_factorization(r3,0.0002,1000)\n",
    "end = time.time()\n",
    "\n",
    "print('Time Taken:', end-start)"
   ]
  },
  {
   "cell_type": "code",
   "execution_count": 12,
   "metadata": {},
   "outputs": [],
   "source": [
    "def get_indices(data):\n",
    "    indice = list()\n",
    "    for i in range(data.shape[0]):\n",
    "        for j in range(data.shape[1]):\n",
    "            if np.isnan(data[i][j]) == False:\n",
    "                indice.append([i,j])\n",
    "            else:\n",
    "                pass\n",
    "    return(indice)"
   ]
  },
  {
   "cell_type": "code",
   "execution_count": 13,
   "metadata": {},
   "outputs": [
    {
     "name": "stdout",
     "output_type": "stream",
     "text": [
      "('Number of Available Data Points:', 100836)\n"
     ]
    }
   ],
   "source": [
    "indice = get_indices(r3)\n",
    "print('Number of Available Data Points:', len(indice))"
   ]
  },
  {
   "cell_type": "code",
   "execution_count": 14,
   "metadata": {},
   "outputs": [
    {
     "name": "stdout",
     "output_type": "stream",
     "text": [
      "('Total number of possible entries in Data Matrix:', 5931640)\n"
     ]
    }
   ],
   "source": [
    "print('Total number of possible entries in Data Matrix:', r3.shape[0]*r3.shape[1])"
   ]
  },
  {
   "cell_type": "code",
   "execution_count": 33,
   "metadata": {},
   "outputs": [
    {
     "data": {
      "text/plain": [
       "0.016999683055613623"
      ]
     },
     "execution_count": 33,
     "metadata": {},
     "output_type": "execute_result"
    }
   ],
   "source": [
    "float(100836/5931640.0)"
   ]
  },
  {
   "cell_type": "code",
   "execution_count": 36,
   "metadata": {},
   "outputs": [
    {
     "name": "stdout",
     "output_type": "stream",
     "text": [
      "Sparsity of Given Data Matrix: 98.3000316944 %\n"
     ]
    }
   ],
   "source": [
    "print('Sparsity of Given Data Matrix: {} %'.format( (1 - (100836)/5931640.0)*100 )) "
   ]
  },
  {
   "cell_type": "code",
   "execution_count": 38,
   "metadata": {},
   "outputs": [],
   "source": [
    "ratio = 0.1"
   ]
  },
  {
   "cell_type": "code",
   "execution_count": 37,
   "metadata": {},
   "outputs": [],
   "source": [
    "def select_test(indice, ratio):\n",
    "    random.seed(2018)\n",
    "    test = random.sample(indice, int(ratio*len(indice)))\n",
    "    return(test)"
   ]
  },
  {
   "cell_type": "code",
   "execution_count": 39,
   "metadata": {},
   "outputs": [],
   "source": [
    "test = select_test(indice, 0.1)"
   ]
  },
  {
   "cell_type": "code",
   "execution_count": 41,
   "metadata": {},
   "outputs": [
    {
     "data": {
      "text/plain": [
       "10083"
      ]
     },
     "execution_count": 41,
     "metadata": {},
     "output_type": "execute_result"
    }
   ],
   "source": [
    "len(test)"
   ]
  },
  {
   "cell_type": "code",
   "execution_count": 42,
   "metadata": {},
   "outputs": [],
   "source": [
    "#len(train)+len(test)"
   ]
  },
  {
   "cell_type": "code",
   "execution_count": 43,
   "metadata": {},
   "outputs": [
    {
     "data": {
      "text/plain": [
       "100836"
      ]
     },
     "execution_count": 43,
     "metadata": {},
     "output_type": "execute_result"
    }
   ],
   "source": [
    "len(indice)"
   ]
  },
  {
   "cell_type": "code",
   "execution_count": 45,
   "metadata": {},
   "outputs": [
    {
     "data": {
      "text/plain": [
       "[[0, 0], [0, 2], [0, 5], [0, 43], [0, 46]]"
      ]
     },
     "execution_count": 45,
     "metadata": {},
     "output_type": "execute_result"
    }
   ],
   "source": [
    "indice[0:5]"
   ]
  },
  {
   "cell_type": "code",
   "execution_count": 46,
   "metadata": {},
   "outputs": [],
   "source": [
    "def mutate_ratings(ratings,test):\n",
    "    rt = ratings.copy()\n",
    "    for i in test:\n",
    "        rt[i[0]][i[1]] = np.nan\n",
    "    return (rt)"
   ]
  },
  {
   "cell_type": "code",
   "execution_count": 47,
   "metadata": {},
   "outputs": [],
   "source": [
    "new_r3 = mutate_ratings(r3, test)"
   ]
  },
  {
   "cell_type": "code",
   "execution_count": 92,
   "metadata": {},
   "outputs": [
    {
     "name": "stdout",
     "output_type": "stream",
     "text": [
      "-0.00485684908926487\n"
     ]
    }
   ],
   "source": [
    "import time\n",
    "\n",
    "start = time.time()\n",
    "\n",
    "pred_new_r3_2 = matrix_factorization(new_r3,0.0002,1000, concept = 2)\n",
    "pred_new_r3_3 = matrix_factorization(new_r3,0.0002,1000, concept = 3)\n",
    "pred_new_r3_4 = matrix_factorization(new_r3,0.0002,1000, concept = 4)\n",
    "pred_new_r3_5 = matrix_factorization(new_r3,0.0002,1000, concept = 5)\n",
    "\n",
    "end = time.time()\n",
    "print(end-start)"
   ]
  },
  {
   "cell_type": "code",
   "execution_count": 49,
   "metadata": {},
   "outputs": [
    {
     "name": "stdout",
     "output_type": "stream",
     "text": [
      "{'a': 7}\n"
     ]
    }
   ],
   "source": [
    "a = dict()\n",
    "a['a'] = 7\n",
    "print(a)"
   ]
  },
  {
   "cell_type": "code",
   "execution_count": 50,
   "metadata": {},
   "outputs": [
    {
     "name": "stdout",
     "output_type": "stream",
     "text": [
      "{'a': 7, 'b': 9}\n"
     ]
    }
   ],
   "source": [
    "a['b']= 9\n",
    "print(a)"
   ]
  },
  {
   "cell_type": "code",
   "execution_count": 59,
   "metadata": {},
   "outputs": [],
   "source": [
    "from tqdm import tqdm\n",
    "from sklearn.metrics import mean_squared_error as mse"
   ]
  },
  {
   "cell_type": "code",
   "execution_count": 60,
   "metadata": {},
   "outputs": [],
   "source": [
    "def rmse_k(data, k):\n",
    "    indice = get_indices(data)\n",
    "    ratios = [0.1, 0.3, 0.5, 0.7, 0.9]\n",
    "    \n",
    "    scores = dict()\n",
    "    \n",
    "    for ratio in tqdm(ratios):\n",
    "        test = select_test(indice, ratio)\n",
    "        new_data = mutate_ratings(data, test)\n",
    "        pred = matrix_factorization(new_data,0.0002,1000, concept = k)\n",
    "        y_true, y_pred = fetch_ratings(data, pred, test)\n",
    "        score = mse(y_true, y_pred)\n",
    "        scores[str(ratio)] = score\n",
    "        \n",
    "    return(scores)"
   ]
  },
  {
   "cell_type": "code",
   "execution_count": 61,
   "metadata": {},
   "outputs": [],
   "source": [
    "def fetch_ratings(ratings, predicted, test):\n",
    "    y_true = list()\n",
    "    y_pred = list()\n",
    "    for i in test:\n",
    "        y_true.append(ratings[i[0]][i[1]])\n",
    "        y_pred.append(predicted[i[0]][i[1]])\n",
    "    return(y_true,y_pred)"
   ]
  },
  {
   "cell_type": "code",
   "execution_count": 62,
   "metadata": {},
   "outputs": [
    {
     "name": "stderr",
     "output_type": "stream",
     "text": [
      "\n",
      "\n",
      "  0%|          | 0/5 [00:00<?, ?it/s]\u001b[A\u001b[A\n",
      "\u001b[A\n",
      "\n",
      " 20%|██        | 1/5 [02:01<08:04, 121.04s/it]\u001b[A\u001b[A\n",
      "\n",
      " 40%|████      | 2/5 [04:08<06:08, 122.84s/it]\u001b[A\u001b[A\n",
      "\n",
      " 60%|██████    | 3/5 [06:10<04:05, 122.82s/it]\u001b[A\u001b[A\n",
      "\n",
      " 80%|████████  | 4/5 [08:21<02:05, 125.16s/it]\u001b[A\u001b[A\n",
      "\n",
      "100%|██████████| 5/5 [10:32<00:00, 126.78s/it]\u001b[A\u001b[A\n",
      "\n",
      "\u001b[A\u001b[A"
     ]
    }
   ],
   "source": [
    "val_2 = rmse_k(r3, k= 2)"
   ]
  },
  {
   "cell_type": "code",
   "execution_count": 63,
   "metadata": {},
   "outputs": [
    {
     "name": "stderr",
     "output_type": "stream",
     "text": [
      "100%|██████████| 5/5 [10:13<00:00, 122.14s/it]\n"
     ]
    }
   ],
   "source": [
    "val_3 = rmse_k(r3, k= 3)"
   ]
  },
  {
   "cell_type": "code",
   "execution_count": 64,
   "metadata": {},
   "outputs": [
    {
     "name": "stderr",
     "output_type": "stream",
     "text": [
      "100%|██████████| 5/5 [10:18<00:00, 123.17s/it]\n"
     ]
    }
   ],
   "source": [
    "val_4 = rmse_k(r3, k= 4)"
   ]
  },
  {
   "cell_type": "code",
   "execution_count": 65,
   "metadata": {},
   "outputs": [
    {
     "name": "stderr",
     "output_type": "stream",
     "text": [
      "100%|██████████| 5/5 [10:00<00:00, 120.16s/it]\n"
     ]
    }
   ],
   "source": [
    "val_5 = rmse_k(r3, k= 5)"
   ]
  },
  {
   "cell_type": "code",
   "execution_count": 66,
   "metadata": {},
   "outputs": [
    {
     "name": "stderr",
     "output_type": "stream",
     "text": [
      "100%|██████████| 5/5 [10:14<00:00, 122.51s/it]\n"
     ]
    }
   ],
   "source": [
    "val_6 = rmse_k(r3, k= 6)"
   ]
  },
  {
   "cell_type": "code",
   "execution_count": 113,
   "metadata": {},
   "outputs": [],
   "source": [
    "np.save('val_2.npy', val_2) \n",
    "np.save('val_3.npy', val_3)\n",
    "np.save('val_4.npy', val_4)\n",
    "np.save('val_5.npy', val_5)\n",
    "np.save('val_6.npy', val_6)"
   ]
  },
  {
   "cell_type": "code",
   "execution_count": 114,
   "metadata": {},
   "outputs": [],
   "source": [
    "val_2 = np.load('val_2.npy').item()\n",
    "val_3 = np.load('val_3.npy').item()\n",
    "val_4 = np.load('val_4.npy').item()\n",
    "val_5 = np.load('val_5.npy').item()\n",
    "val_6 = np.load('val_6.npy').item()"
   ]
  },
  {
   "cell_type": "code",
   "execution_count": 116,
   "metadata": {},
   "outputs": [],
   "source": [
    "v2 = [val_2[str(key)] for key in ratios ]\n",
    "v3 = [val_3[str(key)] for key in ratios ]\n",
    "v4 = [val_4[str(key)] for key in ratios ]\n",
    "v5 = [val_5[str(key)] for key in ratios ]\n",
    "v6 = [val_6[str(key)] for key in ratios ]"
   ]
  },
  {
   "cell_type": "code",
   "execution_count": 104,
   "metadata": {},
   "outputs": [
    {
     "data": {
      "text/plain": [
       "[0.9035184299307656,\n",
       " 0.907420439444916,\n",
       " 0.959932134275775,\n",
       " 1.0758085550575458,\n",
       " 1.6232963343503812]"
      ]
     },
     "execution_count": 104,
     "metadata": {},
     "output_type": "execute_result"
    }
   ],
   "source": [
    "v2"
   ]
  },
  {
   "cell_type": "code",
   "execution_count": 130,
   "metadata": {},
   "outputs": [
    {
     "data": {
      "image/png": "[encoded data removed]",
      "text/plain": [
       "<Figure size 432x288 with 1 Axes>"
      ]
     },
     "metadata": {},
     "output_type": "display_data"
    }
   ],
   "source": [
    "import matplotlib.pyplot as plt\n",
    "\n",
    "fig = plt.figure()\n",
    "ax = plt.axes()\n",
    "plt.style.use('seaborn-whitegrid')\n",
    "\n",
    "ratios = [0.1, 0.3, 0.5, 0.7, 0.9]\n",
    "\n",
    "plt.plot(ratios, v2,'b^', label='k = 2')\n",
    "plt.plot(ratios, v3,'g^', label='k = 3')\n",
    "plt.plot(ratios, v4,'r^', label='k = 4')\n",
    "plt.plot(ratios, v5,'c^', label='k = 5')\n",
    "plt.plot(ratios, v6,'y^', label='k = 6')\n",
    "\n",
    "plt.legend(bbox_to_anchor=(1.05, 1), loc=2, borderaxespad=0.)\n",
    "plt.title('Paramter Tuning for Matrix Factorisation Model')\n",
    "plt.xlabel('Test to Whole Set Ratio')\n",
    "plt.ylabel('RMSE')\n",
    "plt.axis('equal')\n",
    "plt.xlim(0.1, 0.9)\n",
    "plt.ylim(0.8, 1.7)\n",
    "plt.show()"
   ]
  }
 ],
 "metadata": {
  "kernelspec": {
   "display_name": "Python 2",
   "language": "python",
   "name": "python2"
  },
  "language_info": {
   "codemirror_mode": {
    "name": "ipython",
    "version": 2
   },
   "file_extension": ".py",
   "mimetype": "text/x-python",
   "name": "python",
   "nbconvert_exporter": "python",
   "pygments_lexer": "ipython2",
   "version": "2.7.13"
  }
 },
 "nbformat": 4,
 "nbformat_minor": 2
}

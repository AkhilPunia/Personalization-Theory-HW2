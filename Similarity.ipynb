{
 "cells": [
  {
   "cell_type": "code",
   "execution_count": 76,
   "metadata": {},
   "outputs": [],
   "source": [
    "import pandas as pd\n",
    "import numpy as np\n",
    "import math"
   ]
  },
  {
   "cell_type": "code",
   "execution_count": 25,
   "metadata": {},
   "outputs": [],
   "source": [
    "def convert_matrix(data,user,item,rating):\n",
    "    matrix = data.pivot(index=user, columns=item, values=rating).as_matrix()\n",
    "    return matrix   "
   ]
  },
  {
   "cell_type": "code",
   "execution_count": 29,
   "metadata": {},
   "outputs": [],
   "source": [
    "def get_user_mean(matrix):\n",
    "    return np.nanmean(matrix, axis = 1)"
   ]
  },
  {
   "cell_type": "code",
   "execution_count": 44,
   "metadata": {},
   "outputs": [],
   "source": [
    "def centralize_matrix(matrix):\n",
    "    user_mean = get_user_mean(matrix)\n",
    "    centered_matrix = matrix - user_mean[:, np.newaxis]\n",
    "    return centered_matrix"
   ]
  },
  {
   "cell_type": "code",
   "execution_count": 267,
   "metadata": {},
   "outputs": [],
   "source": [
    "def cosine(matrix,i,j):\n",
    "    if i == j:\n",
    "        return 1\n",
    "    item_matrix = matrix[:,[i-1,j-1]]\n",
    "    item_matrix_new = item_matrix[~np.isnan(item_matrix).any(axis=1)]\n",
    "    ratings_item_i = item_matrix_new[:,0]\n",
    "    ratings_item_j = item_matrix_new[:,1]\n",
    "    num = np.dot(ratings_item_i, ratings_item_j)\n",
    "    den = math.sqrt(sum(ratings_item_i ** 2)) * math.sqrt(sum(ratings_item_j ** 2))\n",
    "    x = math.sqrt(sum(ratings_item_i ** 2)) * math.sqrt(sum(ratings_item_j ** 2) - 1)\n",
    "    return num/den"
   ]
  },
  {
   "cell_type": "code",
   "execution_count": 266,
   "metadata": {},
   "outputs": [],
   "source": [
    "def cosine_matrix(matrix):\n",
    "    where_are_NaNs = np.isnan(matrix)\n",
    "    new_matrix = np.copy(matrix)\n",
    "    new_matrix[where_are_NaNs] = 0\n",
    "    squares = np.square(new_matrix)\n",
    "    num = new_matrix.T.dot(new_matrix)\n",
    "    one_matrix = np.copy(matrix)\n",
    "    one_matrix[~np.isnan(one_matrix)] = 0\n",
    "    one_matrix[np.isnan(one_matrix)] = 1\n",
    "    one_matrix = 1 - one_matrix\n",
    "    temp_matrix = squares.T.dot(one_matrix)\n",
    "    den_matrix = temp_matrix.T * temp_matrix\n",
    "    den = np.sqrt(den_matrix)\n",
    "    output = np.divide(num,den)\n",
    "    return output"
   ]
  },
  {
   "cell_type": "code",
   "execution_count": 185,
   "metadata": {},
   "outputs": [],
   "source": [
    "def item_similarity(matrix):\n",
    "    output = np.zeros((matrix.shape[1], matrix.shape[1]))\n",
    "    for i in list(range(1,output.shape[1]+1)):\n",
    "        for j in list(range(i,output.shape[1]+1)):\n",
    "            output[i-1,j-1] = cosine(matrix,i,j)\n",
    "            output[j-1,i-1] = output[i-1,j-1]\n",
    "    return output"
   ]
  },
  {
   "cell_type": "code",
   "execution_count": 4,
   "metadata": {},
   "outputs": [],
   "source": [
    "path = '../ml-latest-small/'\n",
    "filename = 'ratings.csv'"
   ]
  },
  {
   "cell_type": "code",
   "execution_count": 5,
   "metadata": {},
   "outputs": [],
   "source": [
    "data = pd.read_csv(path+filename)"
   ]
  },
  {
   "cell_type": "code",
   "execution_count": 6,
   "metadata": {},
   "outputs": [
    {
     "data": {
      "text/html": [
       "<div>\n",
       "<style scoped>\n",
       "    .dataframe tbody tr th:only-of-type {\n",
       "        vertical-align: middle;\n",
       "    }\n",
       "\n",
       "    .dataframe tbody tr th {\n",
       "        vertical-align: top;\n",
       "    }\n",
       "\n",
       "    .dataframe thead th {\n",
       "        text-align: right;\n",
       "    }\n",
       "</style>\n",
       "<table border=\"1\" class=\"dataframe\">\n",
       "  <thead>\n",
       "    <tr style=\"text-align: right;\">\n",
       "      <th></th>\n",
       "      <th>userId</th>\n",
       "      <th>movieId</th>\n",
       "      <th>rating</th>\n",
       "      <th>timestamp</th>\n",
       "    </tr>\n",
       "  </thead>\n",
       "  <tbody>\n",
       "    <tr>\n",
       "      <th>0</th>\n",
       "      <td>1</td>\n",
       "      <td>1</td>\n",
       "      <td>4.0</td>\n",
       "      <td>964982703</td>\n",
       "    </tr>\n",
       "    <tr>\n",
       "      <th>1</th>\n",
       "      <td>1</td>\n",
       "      <td>3</td>\n",
       "      <td>4.0</td>\n",
       "      <td>964981247</td>\n",
       "    </tr>\n",
       "    <tr>\n",
       "      <th>2</th>\n",
       "      <td>1</td>\n",
       "      <td>6</td>\n",
       "      <td>4.0</td>\n",
       "      <td>964982224</td>\n",
       "    </tr>\n",
       "  </tbody>\n",
       "</table>\n",
       "</div>"
      ],
      "text/plain": [
       "   userId  movieId  rating  timestamp\n",
       "0       1        1     4.0  964982703\n",
       "1       1        3     4.0  964981247\n",
       "2       1        6     4.0  964982224"
      ]
     },
     "execution_count": 6,
     "metadata": {},
     "output_type": "execute_result"
    }
   ],
   "source": [
    "data.head(3)"
   ]
  },
  {
   "cell_type": "code",
   "execution_count": 7,
   "metadata": {},
   "outputs": [],
   "source": [
    "user_column_name = 'userId'\n",
    "item_column_name = 'movieId'\n",
    "rating_column_name = 'rating'"
   ]
  },
  {
   "cell_type": "code",
   "execution_count": 26,
   "metadata": {},
   "outputs": [
    {
     "name": "stderr",
     "output_type": "stream",
     "text": [
      "/Users/ashwin/Documents/Columbia Courses/Personalization Theory/Project/personalization_project/lib/python3.7/site-packages/ipykernel_launcher.py:2: FutureWarning: Method .as_matrix will be removed in a future version. Use .values instead.\n",
      "  \n"
     ]
    }
   ],
   "source": [
    "matrix = convert_matrix(data, user_column_name, item_column_name, rating_column_name)"
   ]
  },
  {
   "cell_type": "code",
   "execution_count": 31,
   "metadata": {},
   "outputs": [],
   "source": [
    "user_mean = get_user_mean(matrix)"
   ]
  },
  {
   "cell_type": "code",
   "execution_count": 49,
   "metadata": {},
   "outputs": [
    {
     "data": {
      "text/plain": [
       "array([-0.36637931,         nan, -0.36637931, ...,         nan,\n",
       "               nan,         nan])"
      ]
     },
     "execution_count": 49,
     "metadata": {},
     "output_type": "execute_result"
    }
   ],
   "source": [
    "centered_matrix = centralize_matrix(matrix)"
   ]
  },
  {
   "cell_type": "code",
   "execution_count": 80,
   "metadata": {},
   "outputs": [
    {
     "data": {
      "text/plain": [
       "0.18118220238070776"
      ]
     },
     "execution_count": 80,
     "metadata": {},
     "output_type": "execute_result"
    }
   ],
   "source": [
    "cosine(centered_matrix,1,3)"
   ]
  },
  {
   "cell_type": "code",
   "execution_count": 194,
   "metadata": {},
   "outputs": [
    {
     "name": "stderr",
     "output_type": "stream",
     "text": [
      "/Users/ashwin/Documents/Columbia Courses/Personalization Theory/Project/personalization_project/lib/python3.7/site-packages/ipykernel_launcher.py:12: RuntimeWarning: invalid value encountered in true_divide\n",
      "  if sys.path[0] == '':\n"
     ]
    }
   ],
   "source": [
    "output = cosine_matrix(centered_matrix)"
   ]
  },
  {
   "cell_type": "code",
   "execution_count": 195,
   "metadata": {},
   "outputs": [
    {
     "name": "stdout",
     "output_type": "stream",
     "text": [
      "[0.71075152 0.08613971 0.12821179 ...        nan        nan        nan]\n"
     ]
    }
   ],
   "source": [
    "print(output[0,:])"
   ]
  },
  {
   "cell_type": "code",
   "execution_count": 196,
   "metadata": {},
   "outputs": [
    {
     "name": "stdout",
     "output_type": "stream",
     "text": [
      "1 2\n"
     ]
    },
    {
     "data": {
      "text/plain": [
       "0.4421741403584015"
      ]
     },
     "execution_count": 196,
     "metadata": {},
     "output_type": "execute_result"
    }
   ],
   "source": [
    "cosine(centered_matrix,1,2)"
   ]
  },
  {
   "cell_type": "code",
   "execution_count": 242,
   "metadata": {},
   "outputs": [],
   "source": [
    "test_matrix = np.array([[1.5,0.5,1.5,-1.5,-0.5,-1.5],[1.2,2.2,np.nan,-0.8,-1.8,-0.8],[np.nan,1,1,-1,-1,np.nan]\n",
    "                        ,[-1.5,-0.5,-0.5,0.5,0.5,1.5],[-1,np.nan,-1,0,1,1]])"
   ]
  },
  {
   "cell_type": "code",
   "execution_count": 224,
   "metadata": {},
   "outputs": [
    {
     "data": {
      "text/plain": [
       "array([[ 1.5,  0.5,  1.5, -1.5, -0.5, -1.5],\n",
       "       [ 1.2,  2.2,  nan, -0.8, -1.8, -0.8],\n",
       "       [ nan,  1. ,  1. , -1. , -1. ,  nan],\n",
       "       [-1.5, -0.5, -0.5,  0.5,  0.5,  1.5],\n",
       "       [-1. ,  nan, -1. ,  0. ,  1. ,  1. ]])"
      ]
     },
     "execution_count": 224,
     "metadata": {},
     "output_type": "execute_result"
    }
   ],
   "source": [
    "test_matrix"
   ]
  },
  {
   "cell_type": "code",
   "execution_count": 212,
   "metadata": {},
   "outputs": [
    {
     "name": "stdout",
     "output_type": "stream",
     "text": [
      "1 3\n",
      "[[ 1.5  1.5]\n",
      " [ 1.2  nan]\n",
      " [ nan  1. ]\n",
      " [-1.5 -0.5]\n",
      " [-1.  -1. ]]\n"
     ]
    },
    {
     "data": {
      "text/plain": [
       "0.9116846116771036"
      ]
     },
     "execution_count": 212,
     "metadata": {},
     "output_type": "execute_result"
    }
   ],
   "source": [
    "cosine(test_matrix,1,3)"
   ]
  },
  {
   "cell_type": "code",
   "execution_count": 265,
   "metadata": {},
   "outputs": [
    {
     "name": "stdout",
     "output_type": "stream",
     "text": [
      "[[ 6.94  4.14  4.   -3.96 -4.66 -6.46]\n",
      " [ 4.14  6.34  2.   -3.76 -5.46 -3.26]\n",
      " [ 4.    2.    4.5  -3.5  -3.   -4.  ]\n",
      " [-3.96 -3.76 -3.5   4.14  3.44  3.64]\n",
      " [-4.66 -5.46 -3.    3.44  5.74  3.94]\n",
      " [-6.46 -3.26 -4.    3.64  3.94  6.14]]\n",
      "[[1. 1. 1. 1. 1. 1.]\n",
      " [1. 1. 0. 1. 1. 1.]\n",
      " [0. 1. 1. 1. 1. 0.]\n",
      " [1. 1. 1. 1. 1. 1.]\n",
      " [1. 0. 1. 1. 1. 1.]]\n",
      "[[6.94 5.94 5.5  6.94 6.94 6.94]\n",
      " [5.34 6.34 1.5  6.34 6.34 5.34]\n",
      " [3.5  3.5  4.5  4.5  4.5  3.5 ]\n",
      " [3.14 4.14 3.5  4.14 4.14 3.14]\n",
      " [4.74 4.74 2.5  5.74 5.74 4.74]\n",
      " [6.14 5.14 5.5  6.14 6.14 6.14]]\n",
      "[[48.1636 31.7196 19.25   21.7916 32.8956 42.6116]\n",
      " [31.7196 40.1956  5.25   26.2476 30.0516 27.4476]\n",
      " [19.25    5.25   20.25   15.75   11.25   19.25  ]\n",
      " [21.7916 26.2476 15.75   17.1396 23.7636 19.2796]\n",
      " [32.8956 30.0516 11.25   23.7636 32.9476 29.1036]\n",
      " [42.6116 27.4476 19.25   19.2796 29.1036 37.6996]]\n"
     ]
    },
    {
     "data": {
      "text/plain": [
       "array([[ 1.        ,  0.73508319,  0.91168461, -0.84830227, -0.8124881 ,\n",
       "        -0.9896203 ],\n",
       "       [ 0.73508319,  1.        ,  0.87287156, -0.73391041, -0.99599886,\n",
       "        -0.62225073],\n",
       "       [ 0.91168461,  0.87287156,  1.        , -0.8819171 , -0.89442719,\n",
       "        -0.91168461],\n",
       "       [-0.84830227, -0.73391041, -0.8819171 ,  1.        ,  0.70567109,\n",
       "         0.82899588],\n",
       "       [-0.8124881 , -0.99599886, -0.89442719,  0.70567109,  1.        ,\n",
       "         0.73033626],\n",
       "       [-0.9896203 , -0.62225073, -0.91168461,  0.82899588,  0.73033626,\n",
       "         1.        ]])"
      ]
     },
     "execution_count": 265,
     "metadata": {},
     "output_type": "execute_result"
    }
   ],
   "source": [
    "cosine_matrix(test_matrix)"
   ]
  },
  {
   "cell_type": "code",
   "execution_count": 244,
   "metadata": {},
   "outputs": [
    {
     "data": {
      "text/plain": [
       "array([ 1.5,  0.5,  1.5, -1.5, -0.5, -1.5])"
      ]
     },
     "execution_count": 244,
     "metadata": {},
     "output_type": "execute_result"
    }
   ],
   "source": [
    "test_matrix[0,:]"
   ]
  },
  {
   "cell_type": "code",
   "execution_count": 255,
   "metadata": {},
   "outputs": [
    {
     "name": "stdout",
     "output_type": "stream",
     "text": [
      "[[-1.5 -1.5]\n",
      " [-0.8 -0.8]\n",
      " [-1.   nan]\n",
      " [ 0.5  1.5]\n",
      " [ 0.   1. ]]\n",
      "[-1.5 -0.8  0.5  0. ]\n",
      "[-1.5 -0.8  1.5  1. ]\n",
      "\n",
      "0.9060559154195247\n"
     ]
    },
    {
     "data": {
      "text/plain": [
       "0.8289958835741487"
      ]
     },
     "execution_count": 255,
     "metadata": {},
     "output_type": "execute_result"
    }
   ],
   "source": [
    "cosine(test_matrix,4,6)"
   ]
  },
  {
   "cell_type": "code",
   "execution_count": null,
   "metadata": {},
   "outputs": [],
   "source": []
  }
 ],
 "metadata": {
  "kernelspec": {
   "display_name": "Python 3",
   "language": "python",
   "name": "python3"
  },
  "language_info": {
   "codemirror_mode": {
    "name": "ipython",
    "version": 3
   },
   "file_extension": ".py",
   "mimetype": "text/x-python",
   "name": "python",
   "nbconvert_exporter": "python",
   "pygments_lexer": "ipython3",
   "version": "3.7.0"
  }
 },
 "nbformat": 4,
 "nbformat_minor": 2
}

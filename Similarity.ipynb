{
 "cells": [
  {
   "cell_type": "code",
   "execution_count": 1,
   "metadata": {},
   "outputs": [],
   "source": [
    "import pandas as pd\n",
    "import numpy as np\n",
    "import random"
   ]
  },
  {
   "cell_type": "code",
   "execution_count": 2,
   "metadata": {},
   "outputs": [],
   "source": [
    "def convert_matrix(data,user,item,rating):\n",
    "    matrix = data.pivot(index=user, columns=item, values=rating).as_matrix()\n",
    "    return matrix   "
   ]
  },
  {
   "cell_type": "code",
   "execution_count": 3,
   "metadata": {},
   "outputs": [],
   "source": [
    "def get_user_mean(matrix):\n",
    "    return np.nanmean(matrix, axis = 1)"
   ]
  },
  {
   "cell_type": "code",
   "execution_count": 4,
   "metadata": {},
   "outputs": [],
   "source": [
    "def centralize_matrix(matrix):\n",
    "    user_mean = get_user_mean(matrix)\n",
    "    centered_matrix = matrix - user_mean[:, np.newaxis]\n",
    "    return centered_matrix"
   ]
  },
  {
   "cell_type": "code",
   "execution_count": 5,
   "metadata": {},
   "outputs": [],
   "source": [
    "def cosine_matrix(matrix):\n",
    "    where_are_NaNs = np.isnan(matrix)\n",
    "    new_matrix = np.copy(matrix)\n",
    "    new_matrix[where_are_NaNs] = 0\n",
    "    squares = np.square(new_matrix)\n",
    "    num = new_matrix.T.dot(new_matrix)\n",
    "    one_matrix = np.copy(matrix)\n",
    "    one_matrix[~np.isnan(one_matrix)] = 0\n",
    "    one_matrix[np.isnan(one_matrix)] = 1\n",
    "    one_matrix = 1 - one_matrix\n",
    "    temp_matrix = squares.T.dot(one_matrix)\n",
    "    den_matrix = temp_matrix.T * temp_matrix\n",
    "    den = np.sqrt(den_matrix)\n",
    "    output = np.divide(num,den)\n",
    "    return output"
   ]
  },
  {
   "cell_type": "code",
   "execution_count": 6,
   "metadata": {},
   "outputs": [],
   "source": [
    "def get_nearest_neighbors(matrix, k):\n",
    "    t = np.argsort(-1 * matrix)\n",
    "    return(t[:,1:1+k])"
   ]
  },
  {
   "cell_type": "code",
   "execution_count": 7,
   "metadata": {},
   "outputs": [],
   "source": [
    "def predict(ratings,similarity,ranking,user,item):\n",
    "    user_ratings_for_similar_items = ratings[user-1,ranking[item-1]]\n",
    "    similarity_for_similar_items = similarity[item-1,ranking[item-1]]\n",
    "    value = np.dot(user_ratings_for_similar_items, similarity_for_similar_items)/sum(np.absolute(similarity_for_similar_items))\n",
    "    if np.isnan(value):\n",
    "        value = np.nanmean(ratings[user-1])\n",
    "        value = round(value * 2) / 2\n",
    "    return value"
   ]
  },
  {
   "cell_type": "code",
   "execution_count": 8,
   "metadata": {},
   "outputs": [],
   "source": [
    "def subset_of_original_data(data, Users = 10000, Movies = 100):\n",
    "    movies = data.movieId.unique()\n",
    "    movies_sub = movies[random.sample(list((range(0,len(movies)))),Movies)]\n",
    "    print(len(movies_sub))\n",
    "    print(movies_sub[0:5])\n",
    "    subset_data = data[data.movieId.isin(movies_sub)]\n",
    "    users = subset_data.userId.unique()\n",
    "    users_sub =  users[random.sample(list((range(0,len(users)))),Users)]\n",
    "    print(len(users_sub))\n",
    "    print(users_sub[0:5])\n",
    "    subset_data = subset_data[subset_data.userId.isin(users_sub)]\n",
    "    subset_data.to_csv('Subset.csv')"
   ]
  },
  {
   "cell_type": "code",
   "execution_count": 9,
   "metadata": {},
   "outputs": [],
   "source": [
    "def test_indices(matrix, split = 0.2):\n",
    "    index = list(np.argwhere(~np.isnan(matrix)))\n",
    "    test_indices = random.sample(index,int(0.2 * len(index)))\n",
    "    train = np.copy(matrix)\n",
    "    for idx in test_indices:\n",
    "        train[idx[0],idx[1]] = np.nan\n",
    "    return train,test_indices\n",
    "    "
   ]
  },
  {
   "cell_type": "code",
   "execution_count": 10,
   "metadata": {},
   "outputs": [],
   "source": [
    "def get_error(actual,predicted):\n",
    "    actual = np.array(actual)\n",
    "    predicted = np.array(predicted)\n",
    "    return np.power(np.sum((actual - predicted ) * (actual - predicted)),0.5)"
   ]
  },
  {
   "cell_type": "code",
   "execution_count": 11,
   "metadata": {},
   "outputs": [],
   "source": [
    "path = '../ml-latest-small/'\n",
    "filename = 'ratings.csv'"
   ]
  },
  {
   "cell_type": "code",
   "execution_count": 12,
   "metadata": {},
   "outputs": [],
   "source": [
    "data = pd.read_csv(path+filename)"
   ]
  },
  {
   "cell_type": "code",
   "execution_count": 13,
   "metadata": {},
   "outputs": [],
   "source": [
    "subset_data = pd.read_csv('Subset.csv')"
   ]
  },
  {
   "cell_type": "code",
   "execution_count": 14,
   "metadata": {},
   "outputs": [
    {
     "data": {
      "text/plain": [
       "9724"
      ]
     },
     "execution_count": 14,
     "metadata": {},
     "output_type": "execute_result"
    }
   ],
   "source": [
    "len(set(data.movieId))"
   ]
  },
  {
   "cell_type": "code",
   "execution_count": 15,
   "metadata": {},
   "outputs": [],
   "source": [
    "user_column_name = 'userId'\n",
    "item_column_name = 'movieId'\n",
    "rating_column_name = 'rating'"
   ]
  },
  {
   "cell_type": "code",
   "execution_count": 16,
   "metadata": {},
   "outputs": [
    {
     "name": "stderr",
     "output_type": "stream",
     "text": [
      "/Users/ashwin/Documents/Columbia Courses/Personalization Theory/Project/personalization_project/lib/python3.7/site-packages/ipykernel_launcher.py:2: FutureWarning: Method .as_matrix will be removed in a future version. Use .values instead.\n",
      "  \n"
     ]
    }
   ],
   "source": [
    "matrix = convert_matrix(data, user_column_name, item_column_name, rating_column_name)"
   ]
  },
  {
   "cell_type": "code",
   "execution_count": 17,
   "metadata": {},
   "outputs": [
    {
     "ename": "IndexError",
     "evalue": "index 2784 is out of bounds for axis 0 with size 610",
     "output_type": "error",
     "traceback": [
      "\u001b[0;31m---------------------------------------------------------------------------\u001b[0m",
      "\u001b[0;31mIndexError\u001b[0m                                Traceback (most recent call last)",
      "\u001b[0;32m<ipython-input-17-9f285765be46>\u001b[0m in \u001b[0;36m<module>\u001b[0;34m\u001b[0m\n\u001b[0;32m----> 1\u001b[0;31m \u001b[0mmatrix\u001b[0m\u001b[0;34m[\u001b[0m\u001b[0;36m2784\u001b[0m\u001b[0;34m,\u001b[0m\u001b[0;36m1\u001b[0m\u001b[0;34m]\u001b[0m\u001b[0;34m\u001b[0m\u001b[0m\n\u001b[0m",
      "\u001b[0;31mIndexError\u001b[0m: index 2784 is out of bounds for axis 0 with size 610"
     ]
    }
   ],
   "source": [
    "matrix[2784,1]"
   ]
  },
  {
   "cell_type": "code",
   "execution_count": 18,
   "metadata": {},
   "outputs": [],
   "source": [
    "train,test = test_indices(matrix, split = 0.2)"
   ]
  },
  {
   "cell_type": "code",
   "execution_count": 19,
   "metadata": {},
   "outputs": [],
   "source": [
    "split_size = [0.5, 0.2, 0.1]"
   ]
  },
  {
   "cell_type": "code",
   "execution_count": 20,
   "metadata": {},
   "outputs": [],
   "source": [
    "neighbourhood_size = [1,2,3,5,10,20]"
   ]
  },
  {
   "cell_type": "code",
   "execution_count": 24,
   "metadata": {},
   "outputs": [
    {
     "name": "stderr",
     "output_type": "stream",
     "text": [
      "/Users/ashwin/Documents/Columbia Courses/Personalization Theory/Project/personalization_project/lib/python3.7/site-packages/ipykernel_launcher.py:14: RuntimeWarning: invalid value encountered in true_divide\n",
      "  \n"
     ]
    }
   ],
   "source": [
    "error_across_split_size = []\n",
    "for split in split_size:\n",
    "    train,test = test_indices(matrix, split)\n",
    "    centered_matrix = centralize_matrix(train)\n",
    "    output = cosine_matrix(centered_matrix)\n",
    "    error = []\n",
    "    for k in neighbourhood_size:\n",
    "        nearest_items = get_nearest_neighbors(output,k)\n",
    "        predicted_value = []\n",
    "        actual_value = []\n",
    "        for index in test:\n",
    "            predicted_value += [predict(train,output,nearest_items, index[0]+1, index[1] + 1)]\n",
    "            actual_value += [matrix[index[0], index[1]]]\n",
    "        error += [get_error(actual_value, predicted_value)]\n",
    "    error_across_split_size  += [error]"
   ]
  },
  {
   "cell_type": "code",
   "execution_count": 29,
   "metadata": {},
   "outputs": [],
   "source": [
    "error_across_split_size\n",
    "y = [[1,2,3],[4,5,6],[7,8,9]]"
   ]
  },
  {
   "cell_type": "code",
   "execution_count": 30,
   "metadata": {},
   "outputs": [
    {
     "data": {
      "text/plain": [
       "[[1, 2, 3], [4, 5, 6], [7, 8, 9]]"
      ]
     },
     "execution_count": 30,
     "metadata": {},
     "output_type": "execute_result"
    }
   ],
   "source": [
    "y"
   ]
  },
  {
   "cell_type": "code",
   "execution_count": 32,
   "metadata": {},
   "outputs": [
    {
     "data": {
      "text/plain": [
       "[1, 2, 3, 5, 10, 20]"
      ]
     },
     "execution_count": 32,
     "metadata": {},
     "output_type": "execute_result"
    }
   ],
   "source": []
  },
  {
   "cell_type": "code",
   "execution_count": 31,
   "metadata": {},
   "outputs": [
    {
     "data": {
      "text/plain": [
       "[[137.4690874342301,\n",
       "  135.2077105789459,\n",
       "  134.89152020131667,\n",
       "  134.78148982705304,\n",
       "  134.7744782961522,\n",
       "  134.77481218684744],\n",
       " [137.34900800515453,\n",
       "  135.16425193075276,\n",
       "  134.96182587844774,\n",
       "  134.86667490525596,\n",
       "  134.8492213548154,\n",
       "  134.8471356759201],\n",
       " [139.35296911081585,\n",
       "  136.33621125731784,\n",
       "  136.02164860377516,\n",
       "  136.01900602489346,\n",
       "  135.95995734038755,\n",
       "  135.95955280891445]]"
      ]
     },
     "execution_count": 31,
     "metadata": {},
     "output_type": "execute_result"
    }
   ],
   "source": [
    "error_across_split_size"
   ]
  },
  {
   "cell_type": "code",
   "execution_count": 38,
   "metadata": {},
   "outputs": [
    {
     "data": {
      "image/png": "[encoded data removed]",
      "text/plain": [
       "<Figure size 432x288 with 1 Axes>"
      ]
     },
     "metadata": {
      "needs_background": "light"
     },
     "output_type": "display_data"
    }
   ],
   "source": [
    "import matplotlib.pyplot as plt\n",
    "x = neighbourhood_size\n",
    "y = error_across_split_size\n",
    "plt.xlabel(\"Split Size\")\n",
    "plt.ylabel(\"RMSE\")\n",
    "plt.title(\"Error across split size\")\n",
    "for i in range(len(y)):\n",
    "    plt.plot(x,[pt for pt in y[i]], label = 100 * (1-split_size[i]))\n",
    "plt.legend()\n",
    "plt.show()"
   ]
  }
 ],
 "metadata": {
  "kernelspec": {
   "display_name": "Python 3",
   "language": "python",
   "name": "python3"
  },
  "language_info": {
   "codemirror_mode": {
    "name": "ipython",
    "version": 3
   },
   "file_extension": ".py",
   "mimetype": "text/x-python",
   "name": "python",
   "nbconvert_exporter": "python",
   "pygments_lexer": "ipython3",
   "version": "3.7.0"
  }
 },
 "nbformat": 4,
 "nbformat_minor": 2
}

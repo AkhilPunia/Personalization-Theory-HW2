{
 "cells": [
  {
   "cell_type": "code",
   "execution_count": 1,
   "metadata": {},
   "outputs": [],
   "source": [
    "import pandas as pd;\n",
    "import numpy as  np;\n",
    "from scipy.optimize import minimize;\n",
    "import random;"
   ]
  },
  {
   "cell_type": "code",
   "execution_count": 2,
   "metadata": {},
   "outputs": [],
   "source": [
    "ratings_small = np.genfromtxt('ml-latest-small//ratings.csv',delimiter=',',skip_header =1)[:,0:3]"
   ]
  },
  {
   "cell_type": "code",
   "execution_count": 3,
   "metadata": {},
   "outputs": [],
   "source": [
    "def get_rhat(u,v):\n",
    "    return np.matmul(u,np.transpose(v))"
   ]
  },
  {
   "cell_type": "code",
   "execution_count": 4,
   "metadata": {},
   "outputs": [],
   "source": [
    "#min J= 1/2||R - Utranspose(V)||**2\n",
    "###Calculate reconstruction error\n",
    "\n",
    "def cal_error(r,rhat):\n",
    "    return 0.5 * np.sum(np.square(r - rhat))    "
   ]
  },
  {
   "cell_type": "code",
   "execution_count": 99,
   "metadata": {},
   "outputs": [],
   "source": [
    "def matrix_factorization(ratings,alpha,steps,concept=3):\n",
    "    r=ratings\n",
    "    row = (r.shape[0])\n",
    "    col = (r.shape[1])\n",
    "    \n",
    "    np.random.seed(1234)\n",
    "    u = np.random.rand(row,concept)\n",
    "    v = np.random.rand(col,concept)\n",
    "    \n",
    "    e = r - get_rhat(u,v)\n",
    "    e = np.array(pd.DataFrame(e).fillna(0))\n",
    "    #e1 = np.zeros((row,col))\n",
    "    #\n",
    "    #for i in range(row):\n",
    "    #    for j in range(col):\n",
    "    #        if r[i][j] > 0:\n",
    "    #            e1[i,j] = r[i][j] - get_rhat(u,v)[i,j]\n",
    "    #           \n",
    "               \n",
    "    #e = r - get_rhat(u,v)\n",
    "    #print(e)\n",
    "    #print(e1)\n",
    "    for s in range(steps):\n",
    "        u_c = u + alpha * np.matmul(e,v)\n",
    "        v_c = v + alpha * np.matmul(np.transpose(e),u)\n",
    "       \n",
    "        u = np.copy(u_c)\n",
    "        v = np.copy(v_c)\n",
    "        e = r - get_rhat(u,v)\n",
    "        e = np.array(pd.DataFrame(e).fillna(0))\n",
    "    return get_rhat(u,v)"
   ]
  },
  {
   "cell_type": "code",
   "execution_count": 100,
   "metadata": {},
   "outputs": [],
   "source": [
    "R = [\n",
    "  [5,3,np.nan,1],\n",
    "  [4,np.nan,np.nan,1],\n",
    "  [1,1,np.nan,5],\n",
    "  [1,np.nan,np.nan,4],\n",
    "  [np.nan,1,5,4],\n",
    " ]\n",
    "R = np.array(R)\n"
   ]
  },
  {
   "cell_type": "code",
   "execution_count": 101,
   "metadata": {},
   "outputs": [
    {
     "data": {
      "text/plain": [
       "array([[5.00479217, 2.98757696, 3.29128869, 0.99876123],\n",
       "       [3.99561129, 2.12559217, 3.00200174, 0.99823669],\n",
       "       [1.01425366, 0.96503099, 4.64540656, 4.997607  ],\n",
       "       [0.99271356, 0.4237421 , 4.14724211, 3.99633337],\n",
       "       [2.37957614, 1.04454135, 4.98434807, 4.01184795]])"
      ]
     },
     "execution_count": 101,
     "metadata": {},
     "output_type": "execute_result"
    }
   ],
   "source": [
    "matrix_factorization(R,0.002,1000)"
   ]
  },
  {
   "cell_type": "code",
   "execution_count": null,
   "metadata": {},
   "outputs": [],
   "source": []
  }
 ],
 "metadata": {
  "kernelspec": {
   "display_name": "Python 3",
   "language": "python",
   "name": "python3"
  },
  "language_info": {
   "codemirror_mode": {
    "name": "ipython",
    "version": 3
   },
   "file_extension": ".py",
   "mimetype": "text/x-python",
   "name": "python",
   "nbconvert_exporter": "python",
   "pygments_lexer": "ipython3",
   "version": "3.5.6"
  }
 },
 "nbformat": 4,
 "nbformat_minor": 2
}

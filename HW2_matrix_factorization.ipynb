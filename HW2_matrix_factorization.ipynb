{
 "cells": [
  {
   "cell_type": "code",
   "execution_count": 1,
   "metadata": {},
   "outputs": [],
   "source": [
    "import pandas as pd;\n",
    "import numpy as  np;\n",
    "from scipy.optimize import minimize;\n",
    "import random;"
   ]
  },
  {
   "cell_type": "code",
   "execution_count": null,
   "metadata": {},
   "outputs": [],
   "source": [
    "ratings_large = np.genfromtxt('ml-latest//ratings.csv',delimiter=',',skip_header =1)[:,0:3]"
   ]
  },
  {
   "cell_type": "code",
   "execution_count": null,
   "metadata": {},
   "outputs": [],
   "source": [
    "ratings_small = np.genfromtxt('ml-latest-small//ratings.csv',delimiter=',',skip_header =1)[:,0:3]"
   ]
  },
  {
   "cell_type": "code",
   "execution_count": 3,
   "metadata": {},
   "outputs": [],
   "source": [
    "def get_rhat(u,v):\n",
    "    return np.matmul(u,np.transpose(v))"
   ]
  },
  {
   "cell_type": "code",
   "execution_count": 87,
   "metadata": {},
   "outputs": [],
   "source": [
    "#min J= 1/2||R - Utranspose(V)||**2\n",
    "###Calculate reconstruction error\n",
    "\n",
    "def cal_error(r,rhat):\n",
    "    return 0.5 * np.nansum(np.square(r - rhat))    "
   ]
  },
  {
   "cell_type": "code",
   "execution_count": 98,
   "metadata": {},
   "outputs": [],
   "source": [
    "def matrix_factorization(ratings,alpha,beta,steps,concept=3):\n",
    "    r = np.array(pd.DataFrame(ratings).pivot(0,1,2))  \n",
    "    #r=ratings\n",
    "    row = (r.shape[0])\n",
    "    col = (r.shape[1])\n",
    "    \n",
    "    np.random.seed(1234)\n",
    "    u = np.random.rand(row,concept)\n",
    "    v = np.random.rand(col,concept)\n",
    "    \n",
    "    e = r - get_rhat(u,v)\n",
    "    e = np.array(pd.DataFrame(e).fillna(0))\n",
    "    #e1 = np.zeros((row,col))\n",
    "    #\n",
    "    #for i in range(row):\n",
    "    #    for j in range(col):\n",
    "    #        if r[i][j] > 0:\n",
    "    #            e1[i,j] = r[i][j] - get_rhat(u,v)[i,j]\n",
    "    #           \n",
    "               \n",
    "    #e = r - get_rhat(u,v)\n",
    "    #print(e)\n",
    "    #print(e1)\n",
    "    for s in range(steps):\n",
    "        u_c = u + alpha * (np.matmul(e,v) - beta * u)\n",
    "        v_c = v + alpha * (np.matmul(e.T,u) - beta * v)\n",
    "       \n",
    "        u = np.copy(u_c)\n",
    "        v = np.copy(v_c)\n",
    "        e = r - get_rhat(u,v)\n",
    "        np.nan_to_num(e,copy=False)\n",
    "        #e = np.array(pd.DataFrame(e).fillna(0))\n",
    "        if s%5 ==0:\n",
    "            print(cal_error(r,get_rhat(u,v)))\n",
    "    return get_rhat(u,v)"
   ]
  },
  {
   "cell_type": "code",
   "execution_count": 104,
   "metadata": {},
   "outputs": [
    {
     "name": "stdout",
     "output_type": "stream",
     "text": [
      "65.66309563717981\n",
      "64.41749176546698\n",
      "63.18416452439069\n",
      "61.96284654976364\n",
      "60.75330909807426\n",
      "59.5553598902297\n",
      "58.36884102710042\n",
      "57.193626969366804\n",
      "56.02962257511298\n",
      "54.876761189492235\n",
      "53.73500278160613\n",
      "52.60433212450063\n",
      "51.48475701489138\n",
      "50.37630652988825\n",
      "49.279029318600934\n",
      "48.1929919270725\n",
      "47.11827715550921\n",
      "46.0549824472542\n",
      "45.003218309388366\n",
      "43.963106765238244\n",
      "42.9347798394249\n",
      "41.918378076402846\n",
      "40.914049093712684\n",
      "39.92194617140697\n",
      "38.942226879305124\n",
      "37.97505174389181\n",
      "37.020582956793724\n",
      "36.078983126852954\n",
      "35.15041407786343\n",
      "34.235035694048676\n",
      "33.333004815339\n",
      "32.44447418445237\n",
      "31.56959144769972\n",
      "30.70849821132343\n",
      "29.861329155037936\n",
      "29.02821120427889\n",
      "28.209262762481124\n",
      "27.40459300450123\n",
      "26.61430123207836\n",
      "25.838476291991178\n",
      "25.07719605732119\n",
      "24.330526971977303\n",
      "23.598523658374468\n",
      "22.881228587895393\n",
      "22.178671813499754\n",
      "21.490870763583644\n",
      "20.81783009593595\n",
      "20.159541610389496\n",
      "19.515984218526498\n",
      "18.88712396857168\n",
      "18.27291412339417\n",
      "17.67329528934358\n",
      "17.088195593466544\n",
      "16.517530906490357\n",
      "15.961205108819792\n",
      "15.419110396673673\n",
      "14.8911276253886\n",
      "14.377126686840146\n",
      "13.876966917875336\n",
      "13.390497536615495\n",
      "12.91755810347412\n",
      "12.457979003740604\n",
      "12.011581948605892\n",
      "11.578180491550059\n",
      "11.157580557073015\n",
      "10.749580978826959\n",
      "10.353974044301594\n",
      "9.970546043318674\n",
      "9.599077817710445\n",
      "9.239345309684683\n",
      "8.89112010651644\n",
      "8.55416997935121\n",
      "8.228259414055211\n",
      "7.913150132203352\n",
      "7.608601600454151\n",
      "7.314371526720403\n",
      "7.030216341705068\n",
      "6.7558916645312035\n",
      "6.491152751352248\n",
      "6.2357549259835965\n",
      "5.989453991746828\n",
      "5.75200662386368\n",
      "5.52317074187709\n",
      "5.302705861710551\n",
      "5.090373427104258\n",
      "4.885937120286667\n",
      "4.689163151852579\n",
      "4.499820529923694\n",
      "4.317681308764421\n",
      "4.142520817114587\n",
      "3.974117866581462\n",
      "3.812254940506433\n",
      "3.6567183637865\n",
      "3.507298454188207\n",
      "3.363789655741365\n",
      "3.2259906548425397\n",
      "3.0937044797341753\n",
      "2.9667385840541916\n",
      "2.844904915174009\n",
      "2.7280199680600163\n"
     ]
    },
    {
     "data": {
      "text/plain": [
       "array([[3.77018608, 3.83579364, 4.02584207, 4.10757939, 2.53525987,\n",
       "        4.39718807, 2.85557176, 4.33599078, 3.94134842]])"
      ]
     },
     "execution_count": 104,
     "metadata": {},
     "output_type": "execute_result"
    }
   ],
   "source": [
    "matrix_factorization(ratings_small[1:10,],0.0002,0.02,500)"
   ]
  },
  {
   "cell_type": "code",
   "execution_count": 52,
   "metadata": {},
   "outputs": [
    {
     "data": {
      "text/plain": [
       "(100836, 3)"
      ]
     },
     "execution_count": 52,
     "metadata": {},
     "output_type": "execute_result"
    }
   ],
   "source": [
    "ratings_small.shape\n",
    "\n",
    "#np.array(pd.DataFrame(ratings_small[1:5,:]).pivot(0,1,2)) "
   ]
  },
  {
   "cell_type": "code",
   "execution_count": null,
   "metadata": {},
   "outputs": [],
   "source": []
  }
 ],
 "metadata": {
  "kernelspec": {
   "display_name": "Python 3",
   "language": "python",
   "name": "python3"
  },
  "language_info": {
   "codemirror_mode": {
    "name": "ipython",
    "version": 3
   },
   "file_extension": ".py",
   "mimetype": "text/x-python",
   "name": "python",
   "nbconvert_exporter": "python",
   "pygments_lexer": "ipython3",
   "version": "3.5.6"
  }
 },
 "nbformat": 4,
 "nbformat_minor": 2
}

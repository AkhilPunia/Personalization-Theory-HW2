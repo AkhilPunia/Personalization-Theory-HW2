{
 "cells": [
  {
   "cell_type": "code",
   "execution_count": 38,
   "metadata": {},
   "outputs": [],
   "source": [
    "import pandas as pd\n",
    "import numpy as  np\n",
    "from scipy.optimize import minimize\n",
    "import random\n",
    "from sklearn.metrics import mean_squared_error as mse\n",
    "import time"
   ]
  },
  {
   "cell_type": "code",
   "execution_count": 2,
   "metadata": {},
   "outputs": [],
   "source": [
    "ratings_small = np.genfromtxt('ratings.csv',delimiter=',',skip_header =1)[:,0:3]"
   ]
  },
  {
   "cell_type": "code",
   "execution_count": 3,
   "metadata": {},
   "outputs": [],
   "source": [
    "def get_rhat(u,v):\n",
    "    return np.matmul(u,np.transpose(v))"
   ]
  },
  {
   "cell_type": "code",
   "execution_count": 4,
   "metadata": {},
   "outputs": [],
   "source": [
    "def cal_error(r,rhat):\n",
    "    return 0.5 * np.sum(np.square(r - rhat))"
   ]
  },
  {
   "cell_type": "markdown",
   "metadata": {},
   "source": [
    "![Matrix Factorization](img/algo.png)"
   ]
  },
  {
   "cell_type": "code",
   "execution_count": 11,
   "metadata": {},
   "outputs": [],
   "source": [
    "def matrix_factorization(ratings,alpha,steps,k=3):\n",
    "    r=ratings\n",
    "    row = (r.shape[0])\n",
    "    col = (r.shape[1])\n",
    "    \n",
    "    np.random.seed(1234)\n",
    "    u = np.random.rand(row,k)\n",
    "    v = np.random.rand(col,k)\n",
    "    \n",
    "    e = r - get_rhat(u,v)\n",
    "    e = np.array(pd.DataFrame(e).fillna(0))\n",
    "\n",
    "    for s in range(steps):\n",
    "        u_c = u + alpha * np.matmul(e,v)\n",
    "        v_c = v + alpha * np.matmul(np.transpose(e),u)\n",
    "       \n",
    "        u = np.copy(u_c)\n",
    "        v = np.copy(v_c)\n",
    "        e = r - get_rhat(u,v)\n",
    "        e = np.array(pd.DataFrame(e).fillna(0))\n",
    "    return get_rhat(u,v)"
   ]
  },
  {
   "cell_type": "markdown",
   "metadata": {},
   "source": [
    "## Implementing on a Sample Case"
   ]
  },
  {
   "cell_type": "code",
   "execution_count": 17,
   "metadata": {},
   "outputs": [
    {
     "data": {
      "text/plain": [
       "array([[ 5.,  3., nan,  1.],\n",
       "       [ 4., nan, nan,  1.],\n",
       "       [ 1.,  1., nan,  5.],\n",
       "       [ 1., nan, nan,  4.],\n",
       "       [nan,  1.,  5.,  4.]])"
      ]
     },
     "execution_count": 17,
     "metadata": {},
     "output_type": "execute_result"
    }
   ],
   "source": [
    "R = [[5,3,np.nan,1],[4,np.nan,np.nan,1],[1,1,np.nan,5],[1,np.nan,np.nan,4],[np.nan,1,5,4]]\n",
    "R = np.array(R)\n",
    "R"
   ]
  },
  {
   "cell_type": "code",
   "execution_count": 18,
   "metadata": {},
   "outputs": [
    {
     "data": {
      "text/plain": [
       "array([[5.00479217, 2.98757696, 3.29128869, 0.99876123],\n",
       "       [3.99561129, 2.12559217, 3.00200174, 0.99823669],\n",
       "       [1.01425366, 0.96503099, 4.64540656, 4.997607  ],\n",
       "       [0.99271356, 0.4237421 , 4.14724211, 3.99633337],\n",
       "       [2.37957614, 1.04454135, 4.98434807, 4.01184795]])"
      ]
     },
     "execution_count": 18,
     "metadata": {},
     "output_type": "execute_result"
    }
   ],
   "source": [
    "predicted_R = matrix_factorization(R,0.002,1000,k=3)\n",
    "predicted_R"
   ]
  },
  {
   "cell_type": "code",
   "execution_count": 19,
   "metadata": {},
   "outputs": [],
   "source": [
    "true = [[0,0],[0,1],[0,3],[1,0],[1,3],[2,0],[2,1],[2,3],[3,0],[3,3],[4,1],[4,2],[4,3]]"
   ]
  },
  {
   "cell_type": "code",
   "execution_count": 20,
   "metadata": {},
   "outputs": [],
   "source": [
    "def fetch_ratings(ratings, predicted, coords):\n",
    "    y_true = list()\n",
    "    y_pred = list()\n",
    "    for i in coords:\n",
    "        y_true.append(ratings[i[0]][i[1]])\n",
    "        y_pred.append(predicted[i[0]][i[1]])\n",
    "    return(y_true,y_pred)"
   ]
  },
  {
   "cell_type": "code",
   "execution_count": 21,
   "metadata": {},
   "outputs": [],
   "source": [
    "y_true, y_pred = fetch_ratings(R, predicted_R, true)"
   ]
  },
  {
   "cell_type": "code",
   "execution_count": 23,
   "metadata": {},
   "outputs": [
    {
     "name": "stdout",
     "output_type": "stream",
     "text": [
      "RMSE: 0.017691266300768293\n"
     ]
    }
   ],
   "source": [
    "print('RMSE:', np.sqrt(mse(y_true, y_pred)))"
   ]
  },
  {
   "cell_type": "markdown",
   "metadata": {},
   "source": [
    "## Experiment 1: Small Dataset [ 640 Users x 100 Movies]"
   ]
  },
  {
   "cell_type": "code",
   "execution_count": 27,
   "metadata": {},
   "outputs": [],
   "source": [
    "ratings = pd.read_csv('ratings.csv')"
   ]
  },
  {
   "cell_type": "code",
   "execution_count": 39,
   "metadata": {},
   "outputs": [
    {
     "data": {
      "text/html": [
       "<div>\n",
       "<style scoped>\n",
       "    .dataframe tbody tr th:only-of-type {\n",
       "        vertical-align: middle;\n",
       "    }\n",
       "\n",
       "    .dataframe tbody tr th {\n",
       "        vertical-align: top;\n",
       "    }\n",
       "\n",
       "    .dataframe thead th {\n",
       "        text-align: right;\n",
       "    }\n",
       "</style>\n",
       "<table border=\"1\" class=\"dataframe\">\n",
       "  <thead>\n",
       "    <tr style=\"text-align: right;\">\n",
       "      <th></th>\n",
       "      <th>userId</th>\n",
       "      <th>movieId</th>\n",
       "      <th>rating</th>\n",
       "      <th>timestamp</th>\n",
       "    </tr>\n",
       "  </thead>\n",
       "  <tbody>\n",
       "    <tr>\n",
       "      <th>0</th>\n",
       "      <td>1</td>\n",
       "      <td>1</td>\n",
       "      <td>4.0</td>\n",
       "      <td>964982703</td>\n",
       "    </tr>\n",
       "    <tr>\n",
       "      <th>1</th>\n",
       "      <td>1</td>\n",
       "      <td>3</td>\n",
       "      <td>4.0</td>\n",
       "      <td>964981247</td>\n",
       "    </tr>\n",
       "    <tr>\n",
       "      <th>2</th>\n",
       "      <td>1</td>\n",
       "      <td>6</td>\n",
       "      <td>4.0</td>\n",
       "      <td>964982224</td>\n",
       "    </tr>\n",
       "    <tr>\n",
       "      <th>3</th>\n",
       "      <td>1</td>\n",
       "      <td>47</td>\n",
       "      <td>5.0</td>\n",
       "      <td>964983815</td>\n",
       "    </tr>\n",
       "    <tr>\n",
       "      <th>4</th>\n",
       "      <td>1</td>\n",
       "      <td>50</td>\n",
       "      <td>5.0</td>\n",
       "      <td>964982931</td>\n",
       "    </tr>\n",
       "  </tbody>\n",
       "</table>\n",
       "</div>"
      ],
      "text/plain": [
       "   userId  movieId  rating  timestamp\n",
       "0       1        1     4.0  964982703\n",
       "1       1        3     4.0  964981247\n",
       "2       1        6     4.0  964982224\n",
       "3       1       47     5.0  964983815\n",
       "4       1       50     5.0  964982931"
      ]
     },
     "execution_count": 39,
     "metadata": {},
     "output_type": "execute_result"
    }
   ],
   "source": [
    "ratings.head()"
   ]
  },
  {
   "cell_type": "code",
   "execution_count": 47,
   "metadata": {},
   "outputs": [
    {
     "name": "stdout",
     "output_type": "stream",
     "text": [
      " Number of Users: 610 \n",
      " Number of Movies: 9724\n"
     ]
    }
   ],
   "source": [
    "print(' Number of Users:', len(ratings.userId.unique()),'\\n','Number of Movies:', len(ratings.movieId.unique()))"
   ]
  },
  {
   "cell_type": "code",
   "execution_count": 133,
   "metadata": {},
   "outputs": [],
   "source": [
    "# Selecting Top 100 Movies\n",
    "data = ratings\n",
    "\n",
    "common_movies = data.groupby('movieId').size().reset_index(name='counts')\n",
    "common_movies = common_movies.sort_values(ascending=False, by=['counts']);\n",
    "movies = list(common_movies.head(100)['movieId']);\n",
    "#movies"
   ]
  },
  {
   "cell_type": "code",
   "execution_count": 56,
   "metadata": {},
   "outputs": [],
   "source": [
    "r2 = ratings.pivot(index='userId', columns='movieId', values='rating');\n",
    "r2_ = r2.filter(items = movies)\n",
    "r3 = np.asarray(r2_)"
   ]
  },
  {
   "cell_type": "code",
   "execution_count": 53,
   "metadata": {},
   "outputs": [
    {
     "data": {
      "text/plain": [
       "(610, 100)"
      ]
     },
     "execution_count": 53,
     "metadata": {},
     "output_type": "execute_result"
    }
   ],
   "source": [
    "r2_.shape"
   ]
  },
  {
   "cell_type": "code",
   "execution_count": 57,
   "metadata": {},
   "outputs": [],
   "source": [
    "def get_indices(data):\n",
    "    indice = list()\n",
    "    for i in range(data.shape[0]):\n",
    "        for j in range(data.shape[1]):\n",
    "            if np.isnan(data[i][j]) == False:\n",
    "                indice.append([i,j])\n",
    "            else:\n",
    "                pass\n",
    "    return(indice)"
   ]
  },
  {
   "cell_type": "code",
   "execution_count": 58,
   "metadata": {},
   "outputs": [
    {
     "name": "stdout",
     "output_type": "stream",
     "text": [
      "Number of Available Data Points: 16185\n"
     ]
    }
   ],
   "source": [
    "indice = get_indices(r3)\n",
    "print('Number of Available Data Points:', len(indice))"
   ]
  },
  {
   "cell_type": "code",
   "execution_count": 59,
   "metadata": {},
   "outputs": [
    {
     "name": "stdout",
     "output_type": "stream",
     "text": [
      "Total number of possible entries in Data Matrix: 61000\n"
     ]
    }
   ],
   "source": [
    "print('Total number of possible entries in Data Matrix:', r3.shape[0]*r3.shape[1])"
   ]
  },
  {
   "cell_type": "code",
   "execution_count": 61,
   "metadata": {},
   "outputs": [
    {
     "name": "stdout",
     "output_type": "stream",
     "text": [
      "Sparsity of Given Data Matrix: 73.4672131147541 %\n"
     ]
    }
   ],
   "source": [
    "print('Sparsity of Given Data Matrix: {} %'.format( (1 - (16185)/61000.0)*100 )) "
   ]
  },
  {
   "cell_type": "code",
   "execution_count": 62,
   "metadata": {},
   "outputs": [],
   "source": [
    "ratio = 0.1"
   ]
  },
  {
   "cell_type": "code",
   "execution_count": 63,
   "metadata": {},
   "outputs": [
    {
     "name": "stdout",
     "output_type": "stream",
     "text": [
      "Time Taken: 1.517120122909546\n"
     ]
    }
   ],
   "source": [
    "import time\n",
    "\n",
    "start = time.time()\n",
    "matrix_factorization(r3,0.0002,1000)\n",
    "end = time.time()\n",
    "\n",
    "print('Time Taken:', end-start)"
   ]
  },
  {
   "cell_type": "code",
   "execution_count": 64,
   "metadata": {},
   "outputs": [],
   "source": [
    "def select_test(indice, ratio):\n",
    "    random.seed(2018)\n",
    "    test = random.sample(indice, int(ratio*len(indice)))\n",
    "    return(test)"
   ]
  },
  {
   "cell_type": "code",
   "execution_count": 65,
   "metadata": {},
   "outputs": [],
   "source": [
    "test = select_test(indice, 0.1)"
   ]
  },
  {
   "cell_type": "code",
   "execution_count": 66,
   "metadata": {},
   "outputs": [],
   "source": [
    "def mutate_ratings(ratings,test):\n",
    "    rt = ratings.copy()\n",
    "    for i in test:\n",
    "        rt[i[0]][i[1]] = np.nan\n",
    "    return (rt)"
   ]
  },
  {
   "cell_type": "code",
   "execution_count": 67,
   "metadata": {},
   "outputs": [],
   "source": [
    "# Masking known entries kept in Test Set to predict during Matrix Factorization\n",
    "new_r3 = mutate_ratings(r3, test)"
   ]
  },
  {
   "cell_type": "code",
   "execution_count": 68,
   "metadata": {},
   "outputs": [
    {
     "name": "stdout",
     "output_type": "stream",
     "text": [
      "1.305593729019165\n",
      "2.807147741317749\n",
      "4.380727767944336\n",
      "5.8179309368133545\n",
      "7.307520627975464\n"
     ]
    }
   ],
   "source": [
    "start = time.time()\n",
    "pred_new_r3_1 = matrix_factorization(new_r3, alpha = 0.0002, steps = 1000, k = 1)\n",
    "end1 = time.time()\n",
    "print(end1-start)\n",
    "\n",
    "pred_new_r3_2 = matrix_factorization(new_r3, alpha = 0.0002, steps = 1000, k = 2)\n",
    "end2 = time.time()\n",
    "print(end2-start)\n",
    "\n",
    "pred_new_r3_3 = matrix_factorization(new_r3, alpha = 0.0002, steps = 1000, k = 3)\n",
    "end3 = time.time()\n",
    "print(end3-start)\n",
    "\n",
    "pred_new_r3_4 = matrix_factorization(new_r3, alpha = 0.0002, steps = 1000, k = 4)\n",
    "end4 = time.time()\n",
    "print(end4-start)\n",
    "\n",
    "pred_new_r3_5 = matrix_factorization(new_r3, alpha = 0.0002, steps = 1000, k = 5)\n",
    "end5 = time.time()\n",
    "print(end5-start)"
   ]
  },
  {
   "cell_type": "code",
   "execution_count": 69,
   "metadata": {},
   "outputs": [],
   "source": [
    "from tqdm import tqdm"
   ]
  },
  {
   "cell_type": "code",
   "execution_count": 106,
   "metadata": {},
   "outputs": [],
   "source": [
    "def rmse_k(data, k):\n",
    "    indice = get_indices(data)\n",
    "    ratios = [0.1, 0.3, 0.5, 0.7, 0.9]\n",
    "    \n",
    "    scores = dict()\n",
    "    \n",
    "    for ratio in tqdm(ratios):\n",
    "        test = select_test(indice, ratio)\n",
    "        new_data = mutate_ratings(data, test)\n",
    "        pred = matrix_factorization(new_data,0.0002,1000, k = k)\n",
    "        y_true, y_pred = fetch_ratings(data, pred, test)\n",
    "        score = np.sqrt(mse(y_true, y_pred))\n",
    "        scores[str(ratio)] = score\n",
    "        \n",
    "    return(scores)"
   ]
  },
  {
   "cell_type": "code",
   "execution_count": 107,
   "metadata": {},
   "outputs": [],
   "source": [
    "def fetch_ratings(ratings, predicted, coords):\n",
    "    y_true = list()\n",
    "    y_pred = list()\n",
    "    for i in coords:\n",
    "        y_true.append(ratings[i[0]][i[1]])\n",
    "        y_pred.append(predicted[i[0]][i[1]])\n",
    "    return(y_true,y_pred)"
   ]
  },
  {
   "cell_type": "code",
   "execution_count": 108,
   "metadata": {},
   "outputs": [
    {
     "name": "stderr",
     "output_type": "stream",
     "text": [
      "100%|██████████| 5/5 [00:06<00:00,  1.26s/it]\n"
     ]
    }
   ],
   "source": [
    "val_1 = rmse_k(r3, k= 1)"
   ]
  },
  {
   "cell_type": "code",
   "execution_count": 109,
   "metadata": {},
   "outputs": [
    {
     "name": "stderr",
     "output_type": "stream",
     "text": [
      "100%|██████████| 5/5 [00:06<00:00,  1.30s/it]\n"
     ]
    }
   ],
   "source": [
    "val_2 = rmse_k(r3, k= 2)"
   ]
  },
  {
   "cell_type": "code",
   "execution_count": 110,
   "metadata": {},
   "outputs": [
    {
     "name": "stderr",
     "output_type": "stream",
     "text": [
      "100%|██████████| 5/5 [00:06<00:00,  1.34s/it]\n"
     ]
    }
   ],
   "source": [
    "val_3 = rmse_k(r3, k= 3)"
   ]
  },
  {
   "cell_type": "code",
   "execution_count": 111,
   "metadata": {},
   "outputs": [
    {
     "name": "stderr",
     "output_type": "stream",
     "text": [
      "100%|██████████| 5/5 [00:06<00:00,  1.35s/it]\n"
     ]
    }
   ],
   "source": [
    "val_4 = rmse_k(r3, k= 4)"
   ]
  },
  {
   "cell_type": "code",
   "execution_count": 112,
   "metadata": {},
   "outputs": [
    {
     "name": "stderr",
     "output_type": "stream",
     "text": [
      "100%|██████████| 5/5 [00:06<00:00,  1.37s/it]\n"
     ]
    }
   ],
   "source": [
    "val_5 = rmse_k(r3, k= 5)"
   ]
  },
  {
   "cell_type": "code",
   "execution_count": 113,
   "metadata": {},
   "outputs": [
    {
     "name": "stderr",
     "output_type": "stream",
     "text": [
      "100%|██████████| 5/5 [00:06<00:00,  1.40s/it]\n"
     ]
    }
   ],
   "source": [
    "val_6 = rmse_k(r3, k= 6)"
   ]
  },
  {
   "cell_type": "code",
   "execution_count": 114,
   "metadata": {},
   "outputs": [],
   "source": [
    "np.save('val_1.npy', val_1) \n",
    "np.save('val_2.npy', val_2) \n",
    "np.save('val_3.npy', val_3)\n",
    "np.save('val_4.npy', val_4)\n",
    "np.save('val_5.npy', val_5)\n",
    "np.save('val_6.npy', val_6)"
   ]
  },
  {
   "cell_type": "code",
   "execution_count": 115,
   "metadata": {},
   "outputs": [],
   "source": [
    "val_1 = np.load('val_1.npy').item()\n",
    "val_2 = np.load('val_2.npy').item()\n",
    "val_3 = np.load('val_3.npy').item()\n",
    "val_4 = np.load('val_4.npy').item()\n",
    "val_5 = np.load('val_5.npy').item()\n",
    "val_6 = np.load('val_6.npy').item()"
   ]
  },
  {
   "cell_type": "code",
   "execution_count": 116,
   "metadata": {},
   "outputs": [],
   "source": [
    "ratios = [0.1, 0.3, 0.5, 0.7, 0.9]"
   ]
  },
  {
   "cell_type": "code",
   "execution_count": 117,
   "metadata": {},
   "outputs": [],
   "source": [
    "v1 = [val_1[str(key)] for key in ratios ]\n",
    "v2 = [val_2[str(key)] for key in ratios ]\n",
    "v3 = [val_3[str(key)] for key in ratios ]\n",
    "v4 = [val_4[str(key)] for key in ratios ]\n",
    "v5 = [val_5[str(key)] for key in ratios ]\n",
    "v6 = [val_6[str(key)] for key in ratios ]"
   ]
  },
  {
   "cell_type": "code",
   "execution_count": 134,
   "metadata": {},
   "outputs": [
    {
     "data": {
      "text/plain": [
       "[0.8290467959649,\n",
       " 0.8385967568916038,\n",
       " 0.8735805945898467,\n",
       " 0.910607326797644,\n",
       " 1.1060615282910478]"
      ]
     },
     "execution_count": 134,
     "metadata": {},
     "output_type": "execute_result"
    }
   ],
   "source": [
    "# Sample of RMSE values stored for k= 2 for varying Train-Test split sizes\n",
    "v2"
   ]
  },
  {
   "cell_type": "code",
   "execution_count": 135,
   "metadata": {},
   "outputs": [
    {
     "data": {
      "image/png": "[encoded data removed]",
      "text/plain": [
       "<Figure size 720x1440 with 1 Axes>"
      ]
     },
     "metadata": {},
     "output_type": "display_data"
    }
   ],
   "source": [
    "import matplotlib.pyplot as plt\n",
    "\n",
    "plt.figure(figsize=(10,20))\n",
    "plt.style.use('seaborn-whitegrid')\n",
    "\n",
    "ratios = [0.1, 0.3, 0.5, 0.7, 0.9]\n",
    "\n",
    "plt.plot(ratios, v1,'b^-', label='k = 1')\n",
    "plt.plot(ratios, v2,'g^-', label='k = 2')\n",
    "plt.plot(ratios, v3,'r^-', label='k = 3')\n",
    "plt.plot(ratios, v4,'c^-', label='k = 4')\n",
    "plt.plot(ratios, v5,'m^-', label='k = 5')\n",
    "plt.plot(ratios, v6,'y^-', label='k = 6')\n",
    "\n",
    "plt.legend(bbox_to_anchor=(1.05, 1), loc=2, borderaxespad=0.)\n",
    "plt.title('Matrix Factorisation Model for differnt k parameter - 600 Users x 100 Movies')\n",
    "plt.xlabel('Test to Whole Set Ratio')\n",
    "plt.ylabel('RMSE')\n",
    "plt.xlim(0, 1.0)\n",
    "plt.ylim(0.8, 1.2)\n",
    "plt.savefig('img/MF-small.png')\n",
    "plt.show()"
   ]
  },
  {
   "cell_type": "markdown",
   "metadata": {},
   "source": [
    "## Experiment 2- Large Dataset [ 10,000 Users x 100 Movies]"
   ]
  },
  {
   "cell_type": "code",
   "execution_count": null,
   "metadata": {},
   "outputs": [],
   "source": []
  }
 ],
 "metadata": {
  "kernelspec": {
   "display_name": "Python 3",
   "language": "python",
   "name": "python3"
  },
  "language_info": {
   "codemirror_mode": {
    "name": "ipython",
    "version": 3
   },
   "file_extension": ".py",
   "mimetype": "text/x-python",
   "name": "python",
   "nbconvert_exporter": "python",
   "pygments_lexer": "ipython3",
   "version": "3.6.7"
  }
 },
 "nbformat": 4,
 "nbformat_minor": 2
}

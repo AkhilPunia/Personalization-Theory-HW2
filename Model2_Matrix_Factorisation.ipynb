{
 "cells": [
  {
   "cell_type": "code",
   "execution_count": 38,
   "metadata": {},
   "outputs": [],
   "source": [
    "import pandas as pd\n",
    "import numpy as  np\n",
    "from scipy.optimize import minimize\n",
    "import random\n",
    "from sklearn.metrics import mean_squared_error as mse\n",
    "import time"
   ]
  },
  {
   "cell_type": "code",
   "execution_count": 3,
   "metadata": {},
   "outputs": [],
   "source": [
    "def get_rhat(u,v):\n",
    "    return np.matmul(u,np.transpose(v))"
   ]
  },
  {
   "cell_type": "code",
   "execution_count": 4,
   "metadata": {},
   "outputs": [],
   "source": [
    "def cal_error(r,rhat):\n",
    "    return 0.5 * np.sum(np.square(r - rhat))"
   ]
  },
  {
   "cell_type": "markdown",
   "metadata": {},
   "source": [
    "![Matrix Factorization](img/algo.png)"
   ]
  },
  {
   "cell_type": "code",
   "execution_count": 11,
   "metadata": {},
   "outputs": [],
   "source": [
    "def matrix_factorization(ratings,alpha,steps,k=3):\n",
    "    r=ratings\n",
    "    row = (r.shape[0])\n",
    "    col = (r.shape[1])\n",
    "    \n",
    "    np.random.seed(1234)\n",
    "    u = np.random.rand(row,k)\n",
    "    v = np.random.rand(col,k)\n",
    "    \n",
    "    e = r - get_rhat(u,v)\n",
    "    e = np.array(pd.DataFrame(e).fillna(0))\n",
    "\n",
    "    for s in range(steps):\n",
    "        u_c = u + alpha * np.matmul(e,v)\n",
    "        v_c = v + alpha * np.matmul(np.transpose(e),u)\n",
    "       \n",
    "        u = np.copy(u_c)\n",
    "        v = np.copy(v_c)\n",
    "        e = r - get_rhat(u,v)\n",
    "        e = np.array(pd.DataFrame(e).fillna(0))\n",
    "    return get_rhat(u,v)"
   ]
  },
  {
   "cell_type": "markdown",
   "metadata": {},
   "source": [
    "## Implementing on a Sample Case"
   ]
  },
  {
   "cell_type": "code",
   "execution_count": 17,
   "metadata": {},
   "outputs": [
    {
     "data": {
      "text/plain": [
       "array([[ 5.,  3., nan,  1.],\n",
       "       [ 4., nan, nan,  1.],\n",
       "       [ 1.,  1., nan,  5.],\n",
       "       [ 1., nan, nan,  4.],\n",
       "       [nan,  1.,  5.,  4.]])"
      ]
     },
     "execution_count": 17,
     "metadata": {},
     "output_type": "execute_result"
    }
   ],
   "source": [
    "R = [[5,3,np.nan,1],[4,np.nan,np.nan,1],[1,1,np.nan,5],[1,np.nan,np.nan,4],[np.nan,1,5,4]]\n",
    "R = np.array(R)\n",
    "R"
   ]
  },
  {
   "cell_type": "code",
   "execution_count": 18,
   "metadata": {},
   "outputs": [
    {
     "data": {
      "text/plain": [
       "array([[5.00479217, 2.98757696, 3.29128869, 0.99876123],\n",
       "       [3.99561129, 2.12559217, 3.00200174, 0.99823669],\n",
       "       [1.01425366, 0.96503099, 4.64540656, 4.997607  ],\n",
       "       [0.99271356, 0.4237421 , 4.14724211, 3.99633337],\n",
       "       [2.37957614, 1.04454135, 4.98434807, 4.01184795]])"
      ]
     },
     "execution_count": 18,
     "metadata": {},
     "output_type": "execute_result"
    }
   ],
   "source": [
    "predicted_R = matrix_factorization(R,0.002,1000,k=3)\n",
    "predicted_R"
   ]
  },
  {
   "cell_type": "code",
   "execution_count": 19,
   "metadata": {},
   "outputs": [],
   "source": [
    "true = [[0,0],[0,1],[0,3],[1,0],[1,3],[2,0],[2,1],[2,3],[3,0],[3,3],[4,1],[4,2],[4,3]]"
   ]
  },
  {
   "cell_type": "code",
   "execution_count": 20,
   "metadata": {},
   "outputs": [],
   "source": [
    "def fetch_ratings(ratings, predicted, coords):\n",
    "    y_true = list()\n",
    "    y_pred = list()\n",
    "    for i in coords:\n",
    "        y_true.append(ratings[i[0]][i[1]])\n",
    "        y_pred.append(predicted[i[0]][i[1]])\n",
    "    return(y_true,y_pred)"
   ]
  },
  {
   "cell_type": "code",
   "execution_count": 21,
   "metadata": {},
   "outputs": [],
   "source": [
    "y_true, y_pred = fetch_ratings(R, predicted_R, true)"
   ]
  },
  {
   "cell_type": "code",
   "execution_count": 23,
   "metadata": {},
   "outputs": [
    {
     "name": "stdout",
     "output_type": "stream",
     "text": [
      "RMSE: 0.017691266300768293\n"
     ]
    }
   ],
   "source": [
    "print('RMSE:', np.sqrt(mse(y_true, y_pred)))"
   ]
  },
  {
   "cell_type": "markdown",
   "metadata": {},
   "source": [
    "## Experiment 1: Small Dataset [ 640 Users x 100 Movies]"
   ]
  },
  {
   "cell_type": "code",
   "execution_count": 212,
   "metadata": {},
   "outputs": [],
   "source": [
    "ratings = pd.read_csv('data/ratings-small.csv')"
   ]
  },
  {
   "cell_type": "code",
   "execution_count": 213,
   "metadata": {},
   "outputs": [
    {
     "data": {
      "text/html": [
       "<div>\n",
       "<style scoped>\n",
       "    .dataframe tbody tr th:only-of-type {\n",
       "        vertical-align: middle;\n",
       "    }\n",
       "\n",
       "    .dataframe tbody tr th {\n",
       "        vertical-align: top;\n",
       "    }\n",
       "\n",
       "    .dataframe thead th {\n",
       "        text-align: right;\n",
       "    }\n",
       "</style>\n",
       "<table border=\"1\" class=\"dataframe\">\n",
       "  <thead>\n",
       "    <tr style=\"text-align: right;\">\n",
       "      <th></th>\n",
       "      <th>userId</th>\n",
       "      <th>movieId</th>\n",
       "      <th>rating</th>\n",
       "      <th>timestamp</th>\n",
       "    </tr>\n",
       "  </thead>\n",
       "  <tbody>\n",
       "    <tr>\n",
       "      <th>0</th>\n",
       "      <td>1</td>\n",
       "      <td>1</td>\n",
       "      <td>4.0</td>\n",
       "      <td>964982703</td>\n",
       "    </tr>\n",
       "    <tr>\n",
       "      <th>1</th>\n",
       "      <td>1</td>\n",
       "      <td>3</td>\n",
       "      <td>4.0</td>\n",
       "      <td>964981247</td>\n",
       "    </tr>\n",
       "    <tr>\n",
       "      <th>2</th>\n",
       "      <td>1</td>\n",
       "      <td>6</td>\n",
       "      <td>4.0</td>\n",
       "      <td>964982224</td>\n",
       "    </tr>\n",
       "    <tr>\n",
       "      <th>3</th>\n",
       "      <td>1</td>\n",
       "      <td>47</td>\n",
       "      <td>5.0</td>\n",
       "      <td>964983815</td>\n",
       "    </tr>\n",
       "    <tr>\n",
       "      <th>4</th>\n",
       "      <td>1</td>\n",
       "      <td>50</td>\n",
       "      <td>5.0</td>\n",
       "      <td>964982931</td>\n",
       "    </tr>\n",
       "  </tbody>\n",
       "</table>\n",
       "</div>"
      ],
      "text/plain": [
       "   userId  movieId  rating  timestamp\n",
       "0       1        1     4.0  964982703\n",
       "1       1        3     4.0  964981247\n",
       "2       1        6     4.0  964982224\n",
       "3       1       47     5.0  964983815\n",
       "4       1       50     5.0  964982931"
      ]
     },
     "execution_count": 213,
     "metadata": {},
     "output_type": "execute_result"
    }
   ],
   "source": [
    "ratings.head()"
   ]
  },
  {
   "cell_type": "code",
   "execution_count": 214,
   "metadata": {},
   "outputs": [
    {
     "name": "stdout",
     "output_type": "stream",
     "text": [
      " Number of Users: 610 \n",
      " Number of Movies: 9724\n"
     ]
    }
   ],
   "source": [
    "print(' Number of Users:', len(ratings.userId.unique()),'\\n','Number of Movies:', len(ratings.movieId.unique()))"
   ]
  },
  {
   "cell_type": "code",
   "execution_count": 215,
   "metadata": {},
   "outputs": [],
   "source": [
    "# Selecting Top 100 Movies\n",
    "data = ratings\n",
    "\n",
    "common_movies = data.groupby('movieId').size().reset_index(name='counts')\n",
    "common_movies = common_movies.sort_values(ascending=False, by=['counts']);\n",
    "movies = list(common_movies.head(100)['movieId']);\n",
    "#movies"
   ]
  },
  {
   "cell_type": "code",
   "execution_count": 216,
   "metadata": {},
   "outputs": [],
   "source": [
    "r2 = ratings.pivot(index='userId', columns='movieId', values='rating');\n",
    "r2_ = r2.filter(items = movies)\n",
    "r3 = np.asarray(r2_)"
   ]
  },
  {
   "cell_type": "code",
   "execution_count": 217,
   "metadata": {},
   "outputs": [
    {
     "data": {
      "text/plain": [
       "(610, 100)"
      ]
     },
     "execution_count": 217,
     "metadata": {},
     "output_type": "execute_result"
    }
   ],
   "source": [
    "r2_.shape"
   ]
  },
  {
   "cell_type": "code",
   "execution_count": 218,
   "metadata": {},
   "outputs": [],
   "source": [
    "def get_indices(data):\n",
    "    indice = list()\n",
    "    for i in range(data.shape[0]):\n",
    "        for j in range(data.shape[1]):\n",
    "            if np.isnan(data[i][j]) == False:\n",
    "                indice.append([i,j])\n",
    "            else:\n",
    "                pass\n",
    "    return(indice)"
   ]
  },
  {
   "cell_type": "code",
   "execution_count": 219,
   "metadata": {},
   "outputs": [
    {
     "name": "stdout",
     "output_type": "stream",
     "text": [
      "Number of Available Data Points: 16185\n"
     ]
    }
   ],
   "source": [
    "indice = get_indices(r3)\n",
    "print('Number of Available Data Points:', len(indice))"
   ]
  },
  {
   "cell_type": "code",
   "execution_count": 220,
   "metadata": {},
   "outputs": [
    {
     "name": "stdout",
     "output_type": "stream",
     "text": [
      "Total number of possible entries in Data Matrix: 61000\n"
     ]
    }
   ],
   "source": [
    "print('Total number of possible entries in Data Matrix:', r3.shape[0]*r3.shape[1])"
   ]
  },
  {
   "cell_type": "code",
   "execution_count": 221,
   "metadata": {},
   "outputs": [
    {
     "name": "stdout",
     "output_type": "stream",
     "text": [
      "Sparsity of Given Data Matrix: 73.4672131147541 %\n"
     ]
    }
   ],
   "source": [
    "print('Sparsity of Given Data Matrix: {} %'.format( (1 - (16185)/61000.0)*100 )) "
   ]
  },
  {
   "cell_type": "code",
   "execution_count": 222,
   "metadata": {},
   "outputs": [],
   "source": [
    "ratio = 0.1"
   ]
  },
  {
   "cell_type": "code",
   "execution_count": 223,
   "metadata": {},
   "outputs": [
    {
     "name": "stdout",
     "output_type": "stream",
     "text": [
      "Time Taken: 1.5172548294067383\n"
     ]
    }
   ],
   "source": [
    "import time\n",
    "\n",
    "start = time.time()\n",
    "matrix_factorization(r3,0.0002,1000)\n",
    "end = time.time()\n",
    "\n",
    "print('Time Taken:', end-start)"
   ]
  },
  {
   "cell_type": "code",
   "execution_count": 224,
   "metadata": {},
   "outputs": [],
   "source": [
    "def select_test(indice, ratio):\n",
    "    random.seed(2018)\n",
    "    test = random.sample(indice, int(ratio*len(indice)))\n",
    "    return(test)"
   ]
  },
  {
   "cell_type": "code",
   "execution_count": 225,
   "metadata": {},
   "outputs": [],
   "source": [
    "test = select_test(indice, 0.1)"
   ]
  },
  {
   "cell_type": "code",
   "execution_count": 226,
   "metadata": {},
   "outputs": [],
   "source": [
    "def mutate_ratings(ratings,test):\n",
    "    rt = ratings.copy()\n",
    "    for i in test:\n",
    "        rt[i[0]][i[1]] = np.nan\n",
    "    return (rt)"
   ]
  },
  {
   "cell_type": "code",
   "execution_count": 227,
   "metadata": {},
   "outputs": [],
   "source": [
    "# Masking known entries kept in Test Set to predict during Matrix Factorization\n",
    "new_r3 = mutate_ratings(r3, test)"
   ]
  },
  {
   "cell_type": "code",
   "execution_count": 228,
   "metadata": {},
   "outputs": [
    {
     "name": "stdout",
     "output_type": "stream",
     "text": [
      "1.3923280239105225\n",
      "2.832218885421753\n",
      "4.2602269649505615\n",
      "5.785889148712158\n",
      "7.289138078689575\n"
     ]
    }
   ],
   "source": [
    "start = time.time()\n",
    "pred_new_r3_1 = matrix_factorization(new_r3, alpha = 0.0002, steps = 1000, k = 1)\n",
    "end1 = time.time()\n",
    "print(end1-start)\n",
    "\n",
    "pred_new_r3_2 = matrix_factorization(new_r3, alpha = 0.0002, steps = 1000, k = 2)\n",
    "end2 = time.time()\n",
    "print(end2-start)\n",
    "\n",
    "pred_new_r3_3 = matrix_factorization(new_r3, alpha = 0.0002, steps = 1000, k = 3)\n",
    "end3 = time.time()\n",
    "print(end3-start)\n",
    "\n",
    "pred_new_r3_4 = matrix_factorization(new_r3, alpha = 0.0002, steps = 1000, k = 4)\n",
    "end4 = time.time()\n",
    "print(end4-start)\n",
    "\n",
    "pred_new_r3_5 = matrix_factorization(new_r3, alpha = 0.0002, steps = 1000, k = 5)\n",
    "end5 = time.time()\n",
    "print(end5-start)"
   ]
  },
  {
   "cell_type": "code",
   "execution_count": 229,
   "metadata": {},
   "outputs": [],
   "source": [
    "from tqdm import tqdm"
   ]
  },
  {
   "cell_type": "code",
   "execution_count": 230,
   "metadata": {},
   "outputs": [],
   "source": [
    "def rmse_k(data, k):\n",
    "    indice = get_indices(data)\n",
    "    ratios = [0.1, 0.3, 0.5, 0.7, 0.9]\n",
    "    \n",
    "    scores = dict()\n",
    "    \n",
    "    for ratio in tqdm(ratios):\n",
    "        test = select_test(indice, ratio)\n",
    "        new_data = mutate_ratings(data, test)\n",
    "        pred = matrix_factorization(new_data,0.0002,1000, k = k)\n",
    "        y_true, y_pred = fetch_ratings(data, pred, test)\n",
    "        score = np.sqrt(mse(y_true, y_pred))\n",
    "        scores[str(ratio)] = score\n",
    "        \n",
    "    return(scores)"
   ]
  },
  {
   "cell_type": "code",
   "execution_count": 231,
   "metadata": {},
   "outputs": [],
   "source": [
    "def fetch_ratings(ratings, predicted, coords):\n",
    "    y_true = list()\n",
    "    y_pred = list()\n",
    "    for i in coords:\n",
    "        y_true.append(ratings[i[0]][i[1]])\n",
    "        y_pred.append(predicted[i[0]][i[1]])\n",
    "    return(y_true,y_pred)"
   ]
  },
  {
   "cell_type": "code",
   "execution_count": 232,
   "metadata": {},
   "outputs": [
    {
     "name": "stderr",
     "output_type": "stream",
     "text": [
      "100%|██████████| 5/5 [00:06<00:00,  1.32s/it]\n"
     ]
    }
   ],
   "source": [
    "val_1 = rmse_k(r3, k= 1)"
   ]
  },
  {
   "cell_type": "code",
   "execution_count": 233,
   "metadata": {},
   "outputs": [
    {
     "name": "stderr",
     "output_type": "stream",
     "text": [
      "100%|██████████| 5/5 [00:07<00:00,  1.56s/it]\n"
     ]
    }
   ],
   "source": [
    "val_2 = rmse_k(r3, k= 2)"
   ]
  },
  {
   "cell_type": "code",
   "execution_count": 234,
   "metadata": {},
   "outputs": [
    {
     "name": "stderr",
     "output_type": "stream",
     "text": [
      "100%|██████████| 5/5 [00:07<00:00,  1.54s/it]\n"
     ]
    }
   ],
   "source": [
    "val_3 = rmse_k(r3, k= 3)"
   ]
  },
  {
   "cell_type": "code",
   "execution_count": 235,
   "metadata": {},
   "outputs": [
    {
     "name": "stderr",
     "output_type": "stream",
     "text": [
      "100%|██████████| 5/5 [00:07<00:00,  1.52s/it]\n"
     ]
    }
   ],
   "source": [
    "val_4 = rmse_k(r3, k= 4)"
   ]
  },
  {
   "cell_type": "code",
   "execution_count": 236,
   "metadata": {},
   "outputs": [
    {
     "name": "stderr",
     "output_type": "stream",
     "text": [
      "100%|██████████| 5/5 [00:07<00:00,  1.57s/it]\n"
     ]
    }
   ],
   "source": [
    "val_5 = rmse_k(r3, k= 5)"
   ]
  },
  {
   "cell_type": "code",
   "execution_count": 237,
   "metadata": {},
   "outputs": [
    {
     "name": "stderr",
     "output_type": "stream",
     "text": [
      "100%|██████████| 5/5 [00:07<00:00,  1.58s/it]\n"
     ]
    }
   ],
   "source": [
    "val_6 = rmse_k(r3, k= 6)"
   ]
  },
  {
   "cell_type": "code",
   "execution_count": 238,
   "metadata": {},
   "outputs": [],
   "source": [
    "np.save('val_1.npy', val_1) \n",
    "np.save('val_2.npy', val_2) \n",
    "np.save('val_3.npy', val_3)\n",
    "np.save('val_4.npy', val_4)\n",
    "np.save('val_5.npy', val_5)\n",
    "np.save('val_6.npy', val_6)"
   ]
  },
  {
   "cell_type": "code",
   "execution_count": 239,
   "metadata": {},
   "outputs": [],
   "source": [
    "val_1 = np.load('val_1.npy').item()\n",
    "val_2 = np.load('val_2.npy').item()\n",
    "val_3 = np.load('val_3.npy').item()\n",
    "val_4 = np.load('val_4.npy').item()\n",
    "val_5 = np.load('val_5.npy').item()\n",
    "val_6 = np.load('val_6.npy').item()"
   ]
  },
  {
   "cell_type": "code",
   "execution_count": 240,
   "metadata": {},
   "outputs": [],
   "source": [
    "ratios = [0.1, 0.3, 0.5, 0.7, 0.9]"
   ]
  },
  {
   "cell_type": "code",
   "execution_count": 241,
   "metadata": {},
   "outputs": [],
   "source": [
    "v1 = [val_1[str(key)] for key in ratios ]\n",
    "v2 = [val_2[str(key)] for key in ratios ]\n",
    "v3 = [val_3[str(key)] for key in ratios ]\n",
    "v4 = [val_4[str(key)] for key in ratios ]\n",
    "v5 = [val_5[str(key)] for key in ratios ]\n",
    "v6 = [val_6[str(key)] for key in ratios ]"
   ]
  },
  {
   "cell_type": "code",
   "execution_count": 242,
   "metadata": {},
   "outputs": [
    {
     "data": {
      "text/plain": [
       "[0.8193808260280739,\n",
       " 0.8251757313978938,\n",
       " 0.8500565580768795,\n",
       " 0.8953627404492102,\n",
       " 1.1382487048716112]"
      ]
     },
     "execution_count": 242,
     "metadata": {},
     "output_type": "execute_result"
    }
   ],
   "source": [
    "# Sample of RMSE values stored for k= 2 for varying Train-Test split sizes\n",
    "v2"
   ]
  },
  {
   "cell_type": "code",
   "execution_count": 247,
   "metadata": {},
   "outputs": [
    {
     "data": {
      "image/png": "[encoded data removed]",
      "text/plain": [
       "<Figure size 504x720 with 1 Axes>"
      ]
     },
     "metadata": {},
     "output_type": "display_data"
    }
   ],
   "source": [
    "import matplotlib.pyplot as plt\n",
    "\n",
    "plt.figure(figsize=(7,10))\n",
    "plt.style.use('seaborn-whitegrid')\n",
    "\n",
    "ratios = [0.1, 0.3, 0.5, 0.7, 0.9]\n",
    "\n",
    "plt.plot(ratios, v1,'b^-', label='k = 1')\n",
    "plt.plot(ratios, v2,'g^-', label='k = 2')\n",
    "plt.plot(ratios, v3,'r^-', label='k = 3')\n",
    "plt.plot(ratios, v4,'c^-', label='k = 4')\n",
    "plt.plot(ratios, v5,'m^-', label='k = 5')\n",
    "plt.plot(ratios, v6,'y^-', label='k = 6')\n",
    "\n",
    "plt.legend(bbox_to_anchor=(1.05, 1), loc=2, borderaxespad=0.)\n",
    "plt.title('Matrix Factorisation Model for different k parameter - 600 Users x 100 Movies')\n",
    "plt.xlabel('Test to Whole Set Ratio')\n",
    "plt.ylabel('RMSE')\n",
    "plt.xlim(0, 1.0)\n",
    "plt.ylim(0.8, 1.22)\n",
    "plt.savefig('img/MF-small-updated.png')\n",
    "plt.show()"
   ]
  },
  {
   "cell_type": "markdown",
   "metadata": {},
   "source": [
    "## Experiment 2- Large Dataset [ 10,000 Users x 88 Movies]"
   ]
  },
  {
   "cell_type": "code",
   "execution_count": 257,
   "metadata": {},
   "outputs": [],
   "source": [
    "ratings_l = pd.read_csv('data/ratings-large.csv')"
   ]
  },
  {
   "cell_type": "code",
   "execution_count": 258,
   "metadata": {},
   "outputs": [
    {
     "data": {
      "text/plain": [
       "(20000263, 4)"
      ]
     },
     "execution_count": 258,
     "metadata": {},
     "output_type": "execute_result"
    }
   ],
   "source": [
    "ratings_l.shape"
   ]
  },
  {
   "cell_type": "code",
   "execution_count": 259,
   "metadata": {},
   "outputs": [],
   "source": [
    "#users = ratings_large.\n",
    "\n",
    "random.seed(2018)\n",
    "movies = ratings_l.movieId.unique()\n",
    "\n",
    "M= 120\n",
    "movies_sub = random.sample(list(movies),M)\n",
    "ratings_l_sub1 = ratings_l[(ratings_l.movieId.isin(movies_sub))]\n",
    "\n",
    "users = ratings_l_sub1.userId.unique()\n",
    "U = 10000\n",
    "users_sub = random.sample(list(users),U)\n",
    "ratings_l_sub2 = ratings_l_sub1[(ratings_l_sub1.userId.isin(users_sub))]"
   ]
  },
  {
   "cell_type": "code",
   "execution_count": 260,
   "metadata": {},
   "outputs": [
    {
     "data": {
      "text/html": [
       "<div>\n",
       "<style scoped>\n",
       "    .dataframe tbody tr th:only-of-type {\n",
       "        vertical-align: middle;\n",
       "    }\n",
       "\n",
       "    .dataframe tbody tr th {\n",
       "        vertical-align: top;\n",
       "    }\n",
       "\n",
       "    .dataframe thead th {\n",
       "        text-align: right;\n",
       "    }\n",
       "</style>\n",
       "<table border=\"1\" class=\"dataframe\">\n",
       "  <thead>\n",
       "    <tr style=\"text-align: right;\">\n",
       "      <th></th>\n",
       "      <th>userId</th>\n",
       "      <th>movieId</th>\n",
       "      <th>rating</th>\n",
       "      <th>timestamp</th>\n",
       "    </tr>\n",
       "  </thead>\n",
       "  <tbody>\n",
       "    <tr>\n",
       "      <th>2164</th>\n",
       "      <td>21</td>\n",
       "      <td>778</td>\n",
       "      <td>4.0</td>\n",
       "      <td>992189380</td>\n",
       "    </tr>\n",
       "    <tr>\n",
       "      <th>2202</th>\n",
       "      <td>21</td>\n",
       "      <td>1263</td>\n",
       "      <td>4.0</td>\n",
       "      <td>992189536</td>\n",
       "    </tr>\n",
       "    <tr>\n",
       "      <th>2233</th>\n",
       "      <td>21</td>\n",
       "      <td>2005</td>\n",
       "      <td>4.0</td>\n",
       "      <td>992190013</td>\n",
       "    </tr>\n",
       "    <tr>\n",
       "      <th>3082</th>\n",
       "      <td>25</td>\n",
       "      <td>778</td>\n",
       "      <td>4.0</td>\n",
       "      <td>1277962804</td>\n",
       "    </tr>\n",
       "    <tr>\n",
       "      <th>3849</th>\n",
       "      <td>32</td>\n",
       "      <td>778</td>\n",
       "      <td>5.0</td>\n",
       "      <td>845963397</td>\n",
       "    </tr>\n",
       "    <tr>\n",
       "      <th>4654</th>\n",
       "      <td>45</td>\n",
       "      <td>3548</td>\n",
       "      <td>5.0</td>\n",
       "      <td>1161817900</td>\n",
       "    </tr>\n",
       "    <tr>\n",
       "      <th>7347</th>\n",
       "      <td>63</td>\n",
       "      <td>1263</td>\n",
       "      <td>4.0</td>\n",
       "      <td>941927947</td>\n",
       "    </tr>\n",
       "    <tr>\n",
       "      <th>7362</th>\n",
       "      <td>63</td>\n",
       "      <td>3035</td>\n",
       "      <td>4.0</td>\n",
       "      <td>941928262</td>\n",
       "    </tr>\n",
       "    <tr>\n",
       "      <th>8340</th>\n",
       "      <td>74</td>\n",
       "      <td>778</td>\n",
       "      <td>4.0</td>\n",
       "      <td>979081372</td>\n",
       "    </tr>\n",
       "    <tr>\n",
       "      <th>8692</th>\n",
       "      <td>80</td>\n",
       "      <td>832</td>\n",
       "      <td>4.0</td>\n",
       "      <td>858458663</td>\n",
       "    </tr>\n",
       "  </tbody>\n",
       "</table>\n",
       "</div>"
      ],
      "text/plain": [
       "      userId  movieId  rating   timestamp\n",
       "2164      21      778     4.0   992189380\n",
       "2202      21     1263     4.0   992189536\n",
       "2233      21     2005     4.0   992190013\n",
       "3082      25      778     4.0  1277962804\n",
       "3849      32      778     5.0   845963397\n",
       "4654      45     3548     5.0  1161817900\n",
       "7347      63     1263     4.0   941927947\n",
       "7362      63     3035     4.0   941928262\n",
       "8340      74      778     4.0   979081372\n",
       "8692      80      832     4.0   858458663"
      ]
     },
     "execution_count": 260,
     "metadata": {},
     "output_type": "execute_result"
    }
   ],
   "source": [
    "ratings_l_sub2.head(10)"
   ]
  },
  {
   "cell_type": "code",
   "execution_count": 261,
   "metadata": {},
   "outputs": [
    {
     "data": {
      "text/plain": [
       "(20708, 4)"
      ]
     },
     "execution_count": 261,
     "metadata": {},
     "output_type": "execute_result"
    }
   ],
   "source": [
    "ratings_l_sub2.shape"
   ]
  },
  {
   "cell_type": "code",
   "execution_count": 262,
   "metadata": {},
   "outputs": [
    {
     "name": "stdout",
     "output_type": "stream",
     "text": [
      " Number of Users: 10000 \n",
      " Number of Movies: 88\n"
     ]
    }
   ],
   "source": [
    "ratings = ratings_l_sub2\n",
    "print(' Number of Users:', len(ratings.userId.unique()),'\\n','Number of Movies:', len(ratings.movieId.unique()))"
   ]
  },
  {
   "cell_type": "code",
   "execution_count": 263,
   "metadata": {},
   "outputs": [],
   "source": [
    "ratings.to_csv('data/ratings-large-2.csv', index=False)"
   ]
  },
  {
   "cell_type": "code",
   "execution_count": 264,
   "metadata": {},
   "outputs": [],
   "source": [
    "ratings = pd.read_csv('data/ratings-large-2.csv')"
   ]
  },
  {
   "cell_type": "code",
   "execution_count": 265,
   "metadata": {},
   "outputs": [],
   "source": [
    "r2 = ratings.pivot(index='userId', columns='movieId', values='rating');\n",
    "r3 = np.asarray(r2)"
   ]
  },
  {
   "cell_type": "code",
   "execution_count": 266,
   "metadata": {},
   "outputs": [
    {
     "data": {
      "text/plain": [
       "(10000, 88)"
      ]
     },
     "execution_count": 266,
     "metadata": {},
     "output_type": "execute_result"
    }
   ],
   "source": [
    "r3.shape"
   ]
  },
  {
   "cell_type": "code",
   "execution_count": 267,
   "metadata": {},
   "outputs": [
    {
     "name": "stdout",
     "output_type": "stream",
     "text": [
      "Number of Available Data Points: 20708\n",
      "Total number of possible entries in Data Matrix: 880000\n",
      "Sparsity of Given Data Matrix: 97.47390243902439 %\n"
     ]
    }
   ],
   "source": [
    "indice = get_indices(r3)\n",
    "print('Number of Available Data Points:', len(indice))\n",
    "print('Total number of possible entries in Data Matrix:', r3.shape[0]*r3.shape[1])\n",
    "print('Sparsity of Given Data Matrix: {} %'.format( (1 - (10357)/410000.0)*100 )) "
   ]
  },
  {
   "cell_type": "code",
   "execution_count": 268,
   "metadata": {},
   "outputs": [],
   "source": [
    "test = select_test(indice, 0.1)\n",
    "new_r3 = mutate_ratings(r3, test)"
   ]
  },
  {
   "cell_type": "code",
   "execution_count": 269,
   "metadata": {},
   "outputs": [
    {
     "name": "stdout",
     "output_type": "stream",
     "text": [
      "23.419827938079834\n"
     ]
    }
   ],
   "source": [
    "start = time.time()\n",
    "pred_new_r3_1 = matrix_factorization(new_r3, alpha = 0.0002, steps = 1000, k = 1)\n",
    "end1 = time.time()\n",
    "print(end1-start)"
   ]
  },
  {
   "cell_type": "code",
   "execution_count": 270,
   "metadata": {},
   "outputs": [
    {
     "data": {
      "text/plain": [
       "(10000, 88)"
      ]
     },
     "execution_count": 270,
     "metadata": {},
     "output_type": "execute_result"
    }
   ],
   "source": [
    "pred_new_r3_1.shape"
   ]
  },
  {
   "cell_type": "code",
   "execution_count": 271,
   "metadata": {},
   "outputs": [
    {
     "name": "stderr",
     "output_type": "stream",
     "text": [
      "100%|██████████| 5/5 [01:38<00:00, 19.68s/it]\n"
     ]
    }
   ],
   "source": [
    "val_l1 = rmse_k(r3, k= 1)"
   ]
  },
  {
   "cell_type": "code",
   "execution_count": 272,
   "metadata": {},
   "outputs": [
    {
     "name": "stderr",
     "output_type": "stream",
     "text": [
      "100%|██████████| 5/5 [01:51<00:00, 22.38s/it]\n"
     ]
    }
   ],
   "source": [
    "val_l2 = rmse_k(r3, k= 2)"
   ]
  },
  {
   "cell_type": "code",
   "execution_count": 273,
   "metadata": {},
   "outputs": [
    {
     "name": "stderr",
     "output_type": "stream",
     "text": [
      "100%|██████████| 5/5 [01:47<00:00, 21.59s/it]\n"
     ]
    }
   ],
   "source": [
    "val_l3 = rmse_k(r3, k= 3)"
   ]
  },
  {
   "cell_type": "code",
   "execution_count": 274,
   "metadata": {},
   "outputs": [
    {
     "name": "stderr",
     "output_type": "stream",
     "text": [
      "100%|██████████| 5/5 [01:52<00:00, 22.42s/it]\n"
     ]
    }
   ],
   "source": [
    "val_l4 = rmse_k(r3, k= 4)"
   ]
  },
  {
   "cell_type": "code",
   "execution_count": 275,
   "metadata": {},
   "outputs": [
    {
     "name": "stderr",
     "output_type": "stream",
     "text": [
      "100%|██████████| 5/5 [01:51<00:00, 22.38s/it]\n"
     ]
    }
   ],
   "source": [
    "val_l5 = rmse_k(r3, k= 5)"
   ]
  },
  {
   "cell_type": "code",
   "execution_count": 276,
   "metadata": {},
   "outputs": [
    {
     "name": "stderr",
     "output_type": "stream",
     "text": [
      "100%|██████████| 5/5 [01:51<00:00, 22.38s/it]\n"
     ]
    }
   ],
   "source": [
    "val_l6 = rmse_k(r3, k= 6)"
   ]
  },
  {
   "cell_type": "code",
   "execution_count": 277,
   "metadata": {},
   "outputs": [
    {
     "name": "stderr",
     "output_type": "stream",
     "text": [
      "100%|██████████| 5/5 [01:55<00:00, 23.20s/it]\n"
     ]
    }
   ],
   "source": [
    "val_l7 = rmse_k(r3, k= 7)"
   ]
  },
  {
   "cell_type": "code",
   "execution_count": 278,
   "metadata": {},
   "outputs": [
    {
     "name": "stderr",
     "output_type": "stream",
     "text": [
      "100%|██████████| 5/5 [01:57<00:00, 23.49s/it]\n"
     ]
    }
   ],
   "source": [
    "val_l8 = rmse_k(r3, k= 8)"
   ]
  },
  {
   "cell_type": "code",
   "execution_count": 279,
   "metadata": {},
   "outputs": [
    {
     "name": "stderr",
     "output_type": "stream",
     "text": [
      "100%|██████████| 5/5 [02:15<00:00, 27.04s/it]\n"
     ]
    }
   ],
   "source": [
    "val_l9 = rmse_k(r3, k= 9)"
   ]
  },
  {
   "cell_type": "code",
   "execution_count": 284,
   "metadata": {},
   "outputs": [],
   "source": [
    "ratios = [0.1, 0.3, 0.5, 0.7, 0.9]\n",
    "\n",
    "v1 = [val_l1[str(key)] for key in ratios ]\n",
    "v2 = [val_l2[str(key)] for key in ratios ]\n",
    "v3 = [val_l3[str(key)] for key in ratios ]\n",
    "v4 = [val_l4[str(key)] for key in ratios ]\n",
    "v5 = [val_l5[str(key)] for key in ratios ]\n",
    "v6 = [val_l6[str(key)] for key in ratios ]\n",
    "v7 = [val_l7[str(key)] for key in ratios ]\n",
    "v8 = [val_l8[str(key)] for key in ratios ]\n",
    "v9 = [val_l9[str(key)] for key in ratios ]"
   ]
  },
  {
   "cell_type": "code",
   "execution_count": 290,
   "metadata": {},
   "outputs": [
    {
     "data": {
      "image/png": "[encoded data removed]",
      "text/plain": [
       "<Figure size 360x720 with 1 Axes>"
      ]
     },
     "metadata": {},
     "output_type": "display_data"
    }
   ],
   "source": [
    "import matplotlib.pyplot as plt\n",
    "\n",
    "plt.figure(figsize=(5,10))\n",
    "plt.style.use('seaborn-whitegrid')\n",
    "\n",
    "ratios = [0.1, 0.3, 0.5, 0.7, 0.9]\n",
    "\n",
    "plt.plot(ratios, v1,'b^-', label='k = 1')\n",
    "plt.plot(ratios, v2,'g^-', label='k = 2')\n",
    "plt.plot(ratios, v3,'r^-', label='k = 3')\n",
    "plt.plot(ratios, v4,'c^-', label='k = 4')\n",
    "plt.plot(ratios, v5,'m^-', label='k = 5')\n",
    "plt.plot(ratios, v6,'y^-', label='k = 6')\n",
    "plt.plot(ratios, v7,'k^-', label='k = 7')\n",
    "plt.plot(ratios, v8,'bo-', label='k = 8')\n",
    "plt.plot(ratios, v9,'go-', label='k = 9')\n",
    "\n",
    "plt.legend(bbox_to_anchor=(1.05, 1), loc=2, borderaxespad=0.)\n",
    "plt.title('Matrix Factorisation Model for differnt k parameter - 5000 Users x 82 Movies')\n",
    "plt.xlabel('Test to Whole Set Ratio')\n",
    "plt.ylabel('RMSE')\n",
    "plt.xlim(0, 1.0)\n",
    "plt.ylim(1.0, 2.1)\n",
    "plt.savefig('img/MF-large.png')\n",
    "plt.show()"
   ]
  },
  {
   "cell_type": "code",
   "execution_count": null,
   "metadata": {},
   "outputs": [],
   "source": []
  }
 ],
 "metadata": {
  "kernelspec": {
   "display_name": "Python 3",
   "language": "python",
   "name": "python3"
  },
  "language_info": {
   "codemirror_mode": {
    "name": "ipython",
    "version": 3
   },
   "file_extension": ".py",
   "mimetype": "text/x-python",
   "name": "python",
   "nbconvert_exporter": "python",
   "pygments_lexer": "ipython3",
   "version": "3.6.7"
  }
 },
 "nbformat": 4,
 "nbformat_minor": 2
}
